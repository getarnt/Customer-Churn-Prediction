{
  "nbformat": 4,
  "nbformat_minor": 0,
  "metadata": {
    "kernelspec": {
      "display_name": "Python 3",
      "language": "python",
      "name": "python3"
    },
    "language_info": {
      "codemirror_mode": {
        "name": "ipython",
        "version": 3
      },
      "file_extension": ".py",
      "mimetype": "text/x-python",
      "name": "python",
      "nbconvert_exporter": "python",
      "pygments_lexer": "ipython3",
      "version": "3.7.4"
    },
    "colab": {
      "name": "Telecom_Churn_Model.ipynb",
      "provenance": [],
      "collapsed_sections": [
        "1yJyUGRsnVIj"
      ],
      "include_colab_link": true
    }
  },
  "cells": [
    {
      "cell_type": "markdown",
      "metadata": {
        "id": "view-in-github",
        "colab_type": "text"
      },
      "source": [
        "<a href=\"https://colab.research.google.com/github/getarnt/Customer-Churn-Prediction/blob/main/Telecom_Churn_Model.ipynb\" target=\"_parent\"><img src=\"https://colab.research.google.com/assets/colab-badge.svg\" alt=\"Open In Colab\"/></a>"
      ]
    },
    {
      "cell_type": "code",
      "metadata": {
        "colab": {
          "base_uri": "https://localhost:8080/"
        },
        "id": "xGFTYnmwnVHd",
        "outputId": "19e0fc1c-3a0e-4976-c6b0-e73d7ebb2849"
      },
      "source": [
        "# Jovian Commit Essentials\n",
        "# Please retain and execute this cell without modifying the contents for `jovian.commit` to work\n",
        "!pip install jovian --upgrade -q\n",
        "import jovian\n",
        "jovian.set_project('telecom-churn-model')\n",
        "jovian.set_colab_id('1N94rViIdSSbV6Lu-Azlqy4znkjNzleg6')"
      ],
      "execution_count": 1,
      "outputs": [
        {
          "output_type": "stream",
          "name": "stdout",
          "text": [
            "\u001b[?25l\r\u001b[K     |████▊                           | 10 kB 22.1 MB/s eta 0:00:01\r\u001b[K     |█████████▌                      | 20 kB 11.3 MB/s eta 0:00:01\r\u001b[K     |██████████████▎                 | 30 kB 9.0 MB/s eta 0:00:01\r\u001b[K     |███████████████████             | 40 kB 8.2 MB/s eta 0:00:01\r\u001b[K     |███████████████████████▉        | 51 kB 4.2 MB/s eta 0:00:01\r\u001b[K     |████████████████████████████▋   | 61 kB 4.4 MB/s eta 0:00:01\r\u001b[K     |████████████████████████████████| 68 kB 2.9 MB/s \n",
            "\u001b[?25h  Building wheel for uuid (setup.py) ... \u001b[?25l\u001b[?25hdone\n"
          ]
        }
      ]
    },
    {
      "cell_type": "code",
      "metadata": {
        "id": "ZZf68KVBnVHk"
      },
      "source": [
        "import warnings\n",
        "warnings.filterwarnings('ignore')\n",
        "import pandas as pd, numpy as np\n",
        "import matplotlib.pyplot as plt\n",
        "import seaborn as sns\n",
        "%matplotlib inline\n",
        "from sklearn.model_selection import train_test_split\n",
        "from sklearn.preprocessing import StandardScaler\n",
        "import statsmodels.api as sm\n",
        "from sklearn.linear_model import LogisticRegression\n",
        "from sklearn.feature_selection import RFE\n",
        "from sklearn import metrics\n",
        "from statsmodels.stats.outliers_influence import variance_inflation_factor\n",
        "from sklearn.metrics import precision_score, recall_score\n",
        "from sklearn.metrics import precision_recall_curve"
      ],
      "execution_count": 2,
      "outputs": []
    },
    {
      "cell_type": "code",
      "metadata": {
        "id": "8BfZ04xYnVHp"
      },
      "source": [
        "pd.set_option(\"display.max_columns\", 300) \n",
        "pd.set_option(\"display.max_rows\", 300)"
      ],
      "execution_count": 3,
      "outputs": []
    },
    {
      "cell_type": "code",
      "metadata": {
        "colab": {
          "base_uri": "https://localhost:8080/"
        },
        "id": "DLPQig9Rn3kf",
        "outputId": "dfb206e4-c776-4bdb-9433-6f4a3db60b28"
      },
      "source": [
        "from google.colab import drive\n",
        "drive.mount('/content/drive')"
      ],
      "execution_count": 6,
      "outputs": [
        {
          "output_type": "stream",
          "name": "stdout",
          "text": [
            "Mounted at /content/drive\n"
          ]
        }
      ]
    },
    {
      "cell_type": "code",
      "metadata": {
        "id": "8yfIsS9vobk2"
      },
      "source": [
        "telco = pd.read_csv('/content/drive/MyDrive/Telecom case Study Asish shared/telecom_churn_data.csv')"
      ],
      "execution_count": 8,
      "outputs": []
    },
    {
      "cell_type": "code",
      "metadata": {
        "colab": {
          "base_uri": "https://localhost:8080/",
          "height": 390
        },
        "id": "50u6gwUsnVHs",
        "outputId": "01aa0a47-11b4-4152-f3ed-1f60e3166eb7"
      },
      "source": [
        "#telco_raw=pd.read_csv('F:/iiit b/Python/Telecom Churn Model/telecom_churn_data.csv')"
      ],
      "execution_count": 4,
      "outputs": [
        {
          "output_type": "error",
          "ename": "FileNotFoundError",
          "evalue": "ignored",
          "traceback": [
            "\u001b[0;31m---------------------------------------------------------------------------\u001b[0m",
            "\u001b[0;31mFileNotFoundError\u001b[0m                         Traceback (most recent call last)",
            "\u001b[0;32m<ipython-input-4-6a515316b0ff>\u001b[0m in \u001b[0;36m<module>\u001b[0;34m()\u001b[0m\n\u001b[0;32m----> 1\u001b[0;31m \u001b[0mtelco_raw\u001b[0m\u001b[0;34m=\u001b[0m\u001b[0mpd\u001b[0m\u001b[0;34m.\u001b[0m\u001b[0mread_csv\u001b[0m\u001b[0;34m(\u001b[0m\u001b[0;34m'F:/iiit b/Python/Telecom Churn Model/telecom_churn_data.csv'\u001b[0m\u001b[0;34m)\u001b[0m\u001b[0;34m\u001b[0m\u001b[0;34m\u001b[0m\u001b[0m\n\u001b[0m",
            "\u001b[0;32m/usr/local/lib/python3.7/dist-packages/pandas/io/parsers.py\u001b[0m in \u001b[0;36mread_csv\u001b[0;34m(filepath_or_buffer, sep, delimiter, header, names, index_col, usecols, squeeze, prefix, mangle_dupe_cols, dtype, engine, converters, true_values, false_values, skipinitialspace, skiprows, skipfooter, nrows, na_values, keep_default_na, na_filter, verbose, skip_blank_lines, parse_dates, infer_datetime_format, keep_date_col, date_parser, dayfirst, cache_dates, iterator, chunksize, compression, thousands, decimal, lineterminator, quotechar, quoting, doublequote, escapechar, comment, encoding, dialect, error_bad_lines, warn_bad_lines, delim_whitespace, low_memory, memory_map, float_precision)\u001b[0m\n\u001b[1;32m    686\u001b[0m     )\n\u001b[1;32m    687\u001b[0m \u001b[0;34m\u001b[0m\u001b[0m\n\u001b[0;32m--> 688\u001b[0;31m     \u001b[0;32mreturn\u001b[0m \u001b[0m_read\u001b[0m\u001b[0;34m(\u001b[0m\u001b[0mfilepath_or_buffer\u001b[0m\u001b[0;34m,\u001b[0m \u001b[0mkwds\u001b[0m\u001b[0;34m)\u001b[0m\u001b[0;34m\u001b[0m\u001b[0;34m\u001b[0m\u001b[0m\n\u001b[0m\u001b[1;32m    689\u001b[0m \u001b[0;34m\u001b[0m\u001b[0m\n\u001b[1;32m    690\u001b[0m \u001b[0;34m\u001b[0m\u001b[0m\n",
            "\u001b[0;32m/usr/local/lib/python3.7/dist-packages/pandas/io/parsers.py\u001b[0m in \u001b[0;36m_read\u001b[0;34m(filepath_or_buffer, kwds)\u001b[0m\n\u001b[1;32m    452\u001b[0m \u001b[0;34m\u001b[0m\u001b[0m\n\u001b[1;32m    453\u001b[0m     \u001b[0;31m# Create the parser.\u001b[0m\u001b[0;34m\u001b[0m\u001b[0;34m\u001b[0m\u001b[0;34m\u001b[0m\u001b[0m\n\u001b[0;32m--> 454\u001b[0;31m     \u001b[0mparser\u001b[0m \u001b[0;34m=\u001b[0m \u001b[0mTextFileReader\u001b[0m\u001b[0;34m(\u001b[0m\u001b[0mfp_or_buf\u001b[0m\u001b[0;34m,\u001b[0m \u001b[0;34m**\u001b[0m\u001b[0mkwds\u001b[0m\u001b[0;34m)\u001b[0m\u001b[0;34m\u001b[0m\u001b[0;34m\u001b[0m\u001b[0m\n\u001b[0m\u001b[1;32m    455\u001b[0m \u001b[0;34m\u001b[0m\u001b[0m\n\u001b[1;32m    456\u001b[0m     \u001b[0;32mif\u001b[0m \u001b[0mchunksize\u001b[0m \u001b[0;32mor\u001b[0m \u001b[0miterator\u001b[0m\u001b[0;34m:\u001b[0m\u001b[0;34m\u001b[0m\u001b[0;34m\u001b[0m\u001b[0m\n",
            "\u001b[0;32m/usr/local/lib/python3.7/dist-packages/pandas/io/parsers.py\u001b[0m in \u001b[0;36m__init__\u001b[0;34m(self, f, engine, **kwds)\u001b[0m\n\u001b[1;32m    946\u001b[0m             \u001b[0mself\u001b[0m\u001b[0;34m.\u001b[0m\u001b[0moptions\u001b[0m\u001b[0;34m[\u001b[0m\u001b[0;34m\"has_index_names\"\u001b[0m\u001b[0;34m]\u001b[0m \u001b[0;34m=\u001b[0m \u001b[0mkwds\u001b[0m\u001b[0;34m[\u001b[0m\u001b[0;34m\"has_index_names\"\u001b[0m\u001b[0;34m]\u001b[0m\u001b[0;34m\u001b[0m\u001b[0;34m\u001b[0m\u001b[0m\n\u001b[1;32m    947\u001b[0m \u001b[0;34m\u001b[0m\u001b[0m\n\u001b[0;32m--> 948\u001b[0;31m         \u001b[0mself\u001b[0m\u001b[0;34m.\u001b[0m\u001b[0m_make_engine\u001b[0m\u001b[0;34m(\u001b[0m\u001b[0mself\u001b[0m\u001b[0;34m.\u001b[0m\u001b[0mengine\u001b[0m\u001b[0;34m)\u001b[0m\u001b[0;34m\u001b[0m\u001b[0;34m\u001b[0m\u001b[0m\n\u001b[0m\u001b[1;32m    949\u001b[0m \u001b[0;34m\u001b[0m\u001b[0m\n\u001b[1;32m    950\u001b[0m     \u001b[0;32mdef\u001b[0m \u001b[0mclose\u001b[0m\u001b[0;34m(\u001b[0m\u001b[0mself\u001b[0m\u001b[0;34m)\u001b[0m\u001b[0;34m:\u001b[0m\u001b[0;34m\u001b[0m\u001b[0;34m\u001b[0m\u001b[0m\n",
            "\u001b[0;32m/usr/local/lib/python3.7/dist-packages/pandas/io/parsers.py\u001b[0m in \u001b[0;36m_make_engine\u001b[0;34m(self, engine)\u001b[0m\n\u001b[1;32m   1178\u001b[0m     \u001b[0;32mdef\u001b[0m \u001b[0m_make_engine\u001b[0m\u001b[0;34m(\u001b[0m\u001b[0mself\u001b[0m\u001b[0;34m,\u001b[0m \u001b[0mengine\u001b[0m\u001b[0;34m=\u001b[0m\u001b[0;34m\"c\"\u001b[0m\u001b[0;34m)\u001b[0m\u001b[0;34m:\u001b[0m\u001b[0;34m\u001b[0m\u001b[0;34m\u001b[0m\u001b[0m\n\u001b[1;32m   1179\u001b[0m         \u001b[0;32mif\u001b[0m \u001b[0mengine\u001b[0m \u001b[0;34m==\u001b[0m \u001b[0;34m\"c\"\u001b[0m\u001b[0;34m:\u001b[0m\u001b[0;34m\u001b[0m\u001b[0;34m\u001b[0m\u001b[0m\n\u001b[0;32m-> 1180\u001b[0;31m             \u001b[0mself\u001b[0m\u001b[0;34m.\u001b[0m\u001b[0m_engine\u001b[0m \u001b[0;34m=\u001b[0m \u001b[0mCParserWrapper\u001b[0m\u001b[0;34m(\u001b[0m\u001b[0mself\u001b[0m\u001b[0;34m.\u001b[0m\u001b[0mf\u001b[0m\u001b[0;34m,\u001b[0m \u001b[0;34m**\u001b[0m\u001b[0mself\u001b[0m\u001b[0;34m.\u001b[0m\u001b[0moptions\u001b[0m\u001b[0;34m)\u001b[0m\u001b[0;34m\u001b[0m\u001b[0;34m\u001b[0m\u001b[0m\n\u001b[0m\u001b[1;32m   1181\u001b[0m         \u001b[0;32melse\u001b[0m\u001b[0;34m:\u001b[0m\u001b[0;34m\u001b[0m\u001b[0;34m\u001b[0m\u001b[0m\n\u001b[1;32m   1182\u001b[0m             \u001b[0;32mif\u001b[0m \u001b[0mengine\u001b[0m \u001b[0;34m==\u001b[0m \u001b[0;34m\"python\"\u001b[0m\u001b[0;34m:\u001b[0m\u001b[0;34m\u001b[0m\u001b[0;34m\u001b[0m\u001b[0m\n",
            "\u001b[0;32m/usr/local/lib/python3.7/dist-packages/pandas/io/parsers.py\u001b[0m in \u001b[0;36m__init__\u001b[0;34m(self, src, **kwds)\u001b[0m\n\u001b[1;32m   2008\u001b[0m         \u001b[0mkwds\u001b[0m\u001b[0;34m[\u001b[0m\u001b[0;34m\"usecols\"\u001b[0m\u001b[0;34m]\u001b[0m \u001b[0;34m=\u001b[0m \u001b[0mself\u001b[0m\u001b[0;34m.\u001b[0m\u001b[0musecols\u001b[0m\u001b[0;34m\u001b[0m\u001b[0;34m\u001b[0m\u001b[0m\n\u001b[1;32m   2009\u001b[0m \u001b[0;34m\u001b[0m\u001b[0m\n\u001b[0;32m-> 2010\u001b[0;31m         \u001b[0mself\u001b[0m\u001b[0;34m.\u001b[0m\u001b[0m_reader\u001b[0m \u001b[0;34m=\u001b[0m \u001b[0mparsers\u001b[0m\u001b[0;34m.\u001b[0m\u001b[0mTextReader\u001b[0m\u001b[0;34m(\u001b[0m\u001b[0msrc\u001b[0m\u001b[0;34m,\u001b[0m \u001b[0;34m**\u001b[0m\u001b[0mkwds\u001b[0m\u001b[0;34m)\u001b[0m\u001b[0;34m\u001b[0m\u001b[0;34m\u001b[0m\u001b[0m\n\u001b[0m\u001b[1;32m   2011\u001b[0m         \u001b[0mself\u001b[0m\u001b[0;34m.\u001b[0m\u001b[0munnamed_cols\u001b[0m \u001b[0;34m=\u001b[0m \u001b[0mself\u001b[0m\u001b[0;34m.\u001b[0m\u001b[0m_reader\u001b[0m\u001b[0;34m.\u001b[0m\u001b[0munnamed_cols\u001b[0m\u001b[0;34m\u001b[0m\u001b[0;34m\u001b[0m\u001b[0m\n\u001b[1;32m   2012\u001b[0m \u001b[0;34m\u001b[0m\u001b[0m\n",
            "\u001b[0;32mpandas/_libs/parsers.pyx\u001b[0m in \u001b[0;36mpandas._libs.parsers.TextReader.__cinit__\u001b[0;34m()\u001b[0m\n",
            "\u001b[0;32mpandas/_libs/parsers.pyx\u001b[0m in \u001b[0;36mpandas._libs.parsers.TextReader._setup_parser_source\u001b[0;34m()\u001b[0m\n",
            "\u001b[0;31mFileNotFoundError\u001b[0m: [Errno 2] No such file or directory: 'F:/iiit b/Python/Telecom Churn Model/telecom_churn_data.csv'"
          ]
        }
      ]
    },
    {
      "cell_type": "code",
      "metadata": {
        "colab": {
          "base_uri": "https://localhost:8080/",
          "height": 169
        },
        "id": "zMMzeYemnVHx",
        "outputId": "0e4671c4-3e55-4f80-ea36-db5a48b67b57"
      },
      "source": [
        "telco=telco_raw"
      ],
      "execution_count": 9,
      "outputs": [
        {
          "output_type": "error",
          "ename": "NameError",
          "evalue": "ignored",
          "traceback": [
            "\u001b[0;31m---------------------------------------------------------------------------\u001b[0m",
            "\u001b[0;31mNameError\u001b[0m                                 Traceback (most recent call last)",
            "\u001b[0;32m<ipython-input-9-5f0ddfd0796f>\u001b[0m in \u001b[0;36m<module>\u001b[0;34m()\u001b[0m\n\u001b[0;32m----> 1\u001b[0;31m \u001b[0mtelco\u001b[0m\u001b[0;34m=\u001b[0m\u001b[0mtelco_raw\u001b[0m\u001b[0;34m\u001b[0m\u001b[0;34m\u001b[0m\u001b[0m\n\u001b[0m",
            "\u001b[0;31mNameError\u001b[0m: name 'telco_raw' is not defined"
          ]
        }
      ]
    },
    {
      "cell_type": "markdown",
      "metadata": {
        "id": "ydeSMc4gnVH0"
      },
      "source": [
        "### Handling Missing Values"
      ]
    },
    {
      "cell_type": "code",
      "metadata": {
        "id": "upPlmqzXnVH5"
      },
      "source": [
        "tf=telco.isna().sum()/len(telco)*100"
      ],
      "execution_count": 10,
      "outputs": []
    },
    {
      "cell_type": "code",
      "metadata": {
        "id": "UKBIKTWinVH7"
      },
      "source": [
        "k=tf[tf>50].index"
      ],
      "execution_count": 11,
      "outputs": []
    },
    {
      "cell_type": "markdown",
      "metadata": {
        "id": "9XG8zv9dnVH-"
      },
      "source": [
        "As there are no values for date of last recharge or the other data columns we can assume that the value is zero and impute with zero except for night pack"
      ]
    },
    {
      "cell_type": "markdown",
      "metadata": {
        "id": "WeWGcm4onVIC"
      },
      "source": [
        "Dropping Night Pack as the columns have high missing value and they do not have a pattern"
      ]
    },
    {
      "cell_type": "code",
      "metadata": {
        "colab": {
          "base_uri": "https://localhost:8080/"
        },
        "id": "A8blJGZEnVID",
        "outputId": "79136dbb-613c-473c-efa5-10ec6e62f85a"
      },
      "source": [
        "tf[(tf>6) & (tf<10)]"
      ],
      "execution_count": 12,
      "outputs": [
        {
          "output_type": "execute_result",
          "data": {
            "text/plain": [
              "onnet_mou_9         7.745077\n",
              "offnet_mou_9        7.745077\n",
              "roam_ic_mou_9       7.745077\n",
              "roam_og_mou_9       7.745077\n",
              "loc_og_t2t_mou_9    7.745077\n",
              "loc_og_t2m_mou_9    7.745077\n",
              "loc_og_t2f_mou_9    7.745077\n",
              "loc_og_t2c_mou_9    7.745077\n",
              "loc_og_mou_9        7.745077\n",
              "std_og_t2t_mou_9    7.745077\n",
              "std_og_t2m_mou_9    7.745077\n",
              "std_og_t2f_mou_9    7.745077\n",
              "std_og_t2c_mou_9    7.745077\n",
              "std_og_mou_9        7.745077\n",
              "isd_og_mou_9        7.745077\n",
              "spl_og_mou_9        7.745077\n",
              "og_others_9         7.745077\n",
              "loc_ic_t2t_mou_9    7.745077\n",
              "loc_ic_t2m_mou_9    7.745077\n",
              "loc_ic_t2f_mou_9    7.745077\n",
              "loc_ic_mou_9        7.745077\n",
              "std_ic_t2t_mou_9    7.745077\n",
              "std_ic_t2m_mou_9    7.745077\n",
              "std_ic_t2f_mou_9    7.745077\n",
              "std_ic_t2o_mou_9    7.745077\n",
              "std_ic_mou_9        7.745077\n",
              "spl_ic_mou_9        7.745077\n",
              "isd_ic_mou_9        7.745077\n",
              "ic_others_9         7.745077\n",
              "dtype: float64"
            ]
          },
          "metadata": {},
          "execution_count": 12
        }
      ]
    },
    {
      "cell_type": "markdown",
      "metadata": {
        "id": "Ye-ph1JnnVIG"
      },
      "source": [
        "All the above columns are missing together which mean it can be replaced with zero"
      ]
    },
    {
      "cell_type": "code",
      "metadata": {
        "id": "tPzzwn7OnVIH"
      },
      "source": [
        "k1=tf[(tf>6) & (tf<10)].index"
      ],
      "execution_count": 13,
      "outputs": []
    },
    {
      "cell_type": "code",
      "metadata": {
        "colab": {
          "base_uri": "https://localhost:8080/"
        },
        "id": "YYiapAlCnVIJ",
        "outputId": "0f7503b8-0578-46e5-8982-24a11e8fb62a"
      },
      "source": [
        "tf[(tf>4) & (tf<6)]"
      ],
      "execution_count": 14,
      "outputs": [
        {
          "output_type": "execute_result",
          "data": {
            "text/plain": [
              "onnet_mou_8            5.378054\n",
              "offnet_mou_8           5.378054\n",
              "roam_ic_mou_8          5.378054\n",
              "roam_og_mou_8          5.378054\n",
              "loc_og_t2t_mou_8       5.378054\n",
              "loc_og_t2m_mou_8       5.378054\n",
              "loc_og_t2f_mou_8       5.378054\n",
              "loc_og_t2c_mou_8       5.378054\n",
              "loc_og_mou_8           5.378054\n",
              "std_og_t2t_mou_8       5.378054\n",
              "std_og_t2m_mou_8       5.378054\n",
              "std_og_t2f_mou_8       5.378054\n",
              "std_og_t2c_mou_8       5.378054\n",
              "std_og_mou_8           5.378054\n",
              "isd_og_mou_8           5.378054\n",
              "spl_og_mou_8           5.378054\n",
              "og_others_8            5.378054\n",
              "loc_ic_t2t_mou_8       5.378054\n",
              "loc_ic_t2m_mou_8       5.378054\n",
              "loc_ic_t2f_mou_8       5.378054\n",
              "loc_ic_mou_8           5.378054\n",
              "std_ic_t2t_mou_8       5.378054\n",
              "std_ic_t2m_mou_8       5.378054\n",
              "std_ic_t2f_mou_8       5.378054\n",
              "std_ic_t2o_mou_8       5.378054\n",
              "std_ic_mou_8           5.378054\n",
              "spl_ic_mou_8           5.378054\n",
              "isd_ic_mou_8           5.378054\n",
              "ic_others_8            5.378054\n",
              "date_of_last_rech_9    4.760048\n",
              "dtype: float64"
            ]
          },
          "metadata": {},
          "execution_count": 14
        }
      ]
    },
    {
      "cell_type": "code",
      "metadata": {
        "id": "EPHVed1YnVIK"
      },
      "source": [
        "k2=tf[(tf>4) & (tf<6)].index"
      ],
      "execution_count": 15,
      "outputs": []
    },
    {
      "cell_type": "code",
      "metadata": {
        "colab": {
          "base_uri": "https://localhost:8080/"
        },
        "id": "u1nCPDM6nVIM",
        "outputId": "ad8ab747-b139-4a2c-ce1f-b2c339aa3802"
      },
      "source": [
        "tf[(tf>2) & (tf<4)]"
      ],
      "execution_count": 16,
      "outputs": [
        {
          "output_type": "execute_result",
          "data": {
            "text/plain": [
              "onnet_mou_6            3.937039\n",
              "onnet_mou_7            3.859039\n",
              "offnet_mou_6           3.937039\n",
              "offnet_mou_7           3.859039\n",
              "roam_ic_mou_6          3.937039\n",
              "roam_ic_mou_7          3.859039\n",
              "roam_og_mou_6          3.937039\n",
              "roam_og_mou_7          3.859039\n",
              "loc_og_t2t_mou_6       3.937039\n",
              "loc_og_t2t_mou_7       3.859039\n",
              "loc_og_t2m_mou_6       3.937039\n",
              "loc_og_t2m_mou_7       3.859039\n",
              "loc_og_t2f_mou_6       3.937039\n",
              "loc_og_t2f_mou_7       3.859039\n",
              "loc_og_t2c_mou_6       3.937039\n",
              "loc_og_t2c_mou_7       3.859039\n",
              "loc_og_mou_6           3.937039\n",
              "loc_og_mou_7           3.859039\n",
              "std_og_t2t_mou_6       3.937039\n",
              "std_og_t2t_mou_7       3.859039\n",
              "std_og_t2m_mou_6       3.937039\n",
              "std_og_t2m_mou_7       3.859039\n",
              "std_og_t2f_mou_6       3.937039\n",
              "std_og_t2f_mou_7       3.859039\n",
              "std_og_t2c_mou_6       3.937039\n",
              "std_og_t2c_mou_7       3.859039\n",
              "std_og_mou_6           3.937039\n",
              "std_og_mou_7           3.859039\n",
              "isd_og_mou_6           3.937039\n",
              "isd_og_mou_7           3.859039\n",
              "spl_og_mou_6           3.937039\n",
              "spl_og_mou_7           3.859039\n",
              "og_others_6            3.937039\n",
              "og_others_7            3.859039\n",
              "loc_ic_t2t_mou_6       3.937039\n",
              "loc_ic_t2t_mou_7       3.859039\n",
              "loc_ic_t2m_mou_6       3.937039\n",
              "loc_ic_t2m_mou_7       3.859039\n",
              "loc_ic_t2f_mou_6       3.937039\n",
              "loc_ic_t2f_mou_7       3.859039\n",
              "loc_ic_mou_6           3.937039\n",
              "loc_ic_mou_7           3.859039\n",
              "std_ic_t2t_mou_6       3.937039\n",
              "std_ic_t2t_mou_7       3.859039\n",
              "std_ic_t2m_mou_6       3.937039\n",
              "std_ic_t2m_mou_7       3.859039\n",
              "std_ic_t2f_mou_6       3.937039\n",
              "std_ic_t2f_mou_7       3.859039\n",
              "std_ic_t2o_mou_6       3.937039\n",
              "std_ic_t2o_mou_7       3.859039\n",
              "std_ic_mou_6           3.937039\n",
              "std_ic_mou_7           3.859039\n",
              "spl_ic_mou_6           3.937039\n",
              "spl_ic_mou_7           3.859039\n",
              "isd_ic_mou_6           3.937039\n",
              "isd_ic_mou_7           3.859039\n",
              "ic_others_6            3.937039\n",
              "ic_others_7            3.859039\n",
              "date_of_last_rech_8    3.622036\n",
              "dtype: float64"
            ]
          },
          "metadata": {},
          "execution_count": 16
        }
      ]
    },
    {
      "cell_type": "code",
      "metadata": {
        "id": "EEv6vwWFnVIO"
      },
      "source": [
        "k3=tf[(tf>2) & (tf<4)].index"
      ],
      "execution_count": 17,
      "outputs": []
    },
    {
      "cell_type": "code",
      "metadata": {
        "colab": {
          "base_uri": "https://localhost:8080/"
        },
        "id": "yybTug8XnVIP",
        "outputId": "b805402a-2e49-4326-9c7d-f1cd9e6dad1b"
      },
      "source": [
        "tf[(tf>0) & (tf<3.6)]"
      ],
      "execution_count": 19,
      "outputs": [
        {
          "output_type": "execute_result",
          "data": {
            "text/plain": [
              "loc_og_t2o_mou          1.018010\n",
              "std_og_t2o_mou          1.018010\n",
              "loc_ic_t2o_mou          1.018010\n",
              "last_date_of_month_7    0.601006\n",
              "last_date_of_month_8    1.100011\n",
              "last_date_of_month_9    1.659017\n",
              "date_of_last_rech_6     1.607016\n",
              "date_of_last_rech_7     1.767018\n",
              "dtype: float64"
            ]
          },
          "metadata": {},
          "execution_count": 19
        }
      ]
    },
    {
      "cell_type": "code",
      "metadata": {
        "colab": {
          "base_uri": "https://localhost:8080/"
        },
        "id": "b1K3z1aAnVIR",
        "outputId": "2224a5c5-d817-4d3a-f0b8-54d95065630a"
      },
      "source": [
        "col = ['loc_og_t2o_mou','std_og_t2o_mou','loc_ic_t2o_mou','last_date_of_month_7','last_date_of_month_8','last_date_of_month_9']\n",
        "for c in col:\n",
        "    print(telco[c].value_counts())\n",
        "    telco[c].fillna(telco[c].mode()[0], inplace=True)\n"
      ],
      "execution_count": 20,
      "outputs": [
        {
          "output_type": "stream",
          "name": "stdout",
          "text": [
            "0.0    98981\n",
            "Name: loc_og_t2o_mou, dtype: int64\n",
            "0.0    98981\n",
            "Name: std_og_t2o_mou, dtype: int64\n",
            "0.0    98981\n",
            "Name: loc_ic_t2o_mou, dtype: int64\n",
            "7/31/2014    99398\n",
            "Name: last_date_of_month_7, dtype: int64\n",
            "8/31/2014    98899\n",
            "Name: last_date_of_month_8, dtype: int64\n",
            "9/30/2014    98340\n",
            "Name: last_date_of_month_9, dtype: int64\n"
          ]
        }
      ]
    },
    {
      "cell_type": "code",
      "metadata": {
        "id": "M35AvgrLnVIU"
      },
      "source": [
        "k=list(k)\n",
        "k1=list(k1)\n",
        "k2=list(k2)\n",
        "k3=list(k3)\n",
        "kf=k+k1+k2+k3"
      ],
      "execution_count": 21,
      "outputs": []
    },
    {
      "cell_type": "code",
      "metadata": {
        "id": "rhTqdxPhnVIV"
      },
      "source": [
        "for col in kf:\n",
        "    telco[col].fillna(0,inplace=True)"
      ],
      "execution_count": 22,
      "outputs": []
    },
    {
      "cell_type": "code",
      "metadata": {
        "id": "Twj8MY9-nVIW"
      },
      "source": [
        "telco.drop(['night_pck_user_6', 'night_pck_user_7', 'night_pck_user_8',\n",
        "       'night_pck_user_9'],axis=1,inplace=True)"
      ],
      "execution_count": 23,
      "outputs": []
    },
    {
      "cell_type": "code",
      "metadata": {
        "id": "by83soGhnVIX"
      },
      "source": [
        "telco=telco[telco.columns[(telco.dtypes==float) | (telco.dtypes=='int64')]]"
      ],
      "execution_count": 24,
      "outputs": []
    },
    {
      "cell_type": "code",
      "metadata": {
        "colab": {
          "base_uri": "https://localhost:8080/"
        },
        "id": "qzpSgtrQnVIY",
        "outputId": "5dee47b0-124f-4773-bacb-38d33892bbf1"
      },
      "source": [
        "telco.isna().sum()"
      ],
      "execution_count": 25,
      "outputs": [
        {
          "output_type": "execute_result",
          "data": {
            "text/plain": [
              "mobile_number         0\n",
              "circle_id             0\n",
              "loc_og_t2o_mou        0\n",
              "std_og_t2o_mou        0\n",
              "loc_ic_t2o_mou        0\n",
              "arpu_6                0\n",
              "arpu_7                0\n",
              "arpu_8                0\n",
              "arpu_9                0\n",
              "onnet_mou_6           0\n",
              "onnet_mou_7           0\n",
              "onnet_mou_8           0\n",
              "onnet_mou_9           0\n",
              "offnet_mou_6          0\n",
              "offnet_mou_7          0\n",
              "offnet_mou_8          0\n",
              "offnet_mou_9          0\n",
              "roam_ic_mou_6         0\n",
              "roam_ic_mou_7         0\n",
              "roam_ic_mou_8         0\n",
              "roam_ic_mou_9         0\n",
              "roam_og_mou_6         0\n",
              "roam_og_mou_7         0\n",
              "roam_og_mou_8         0\n",
              "roam_og_mou_9         0\n",
              "loc_og_t2t_mou_6      0\n",
              "loc_og_t2t_mou_7      0\n",
              "loc_og_t2t_mou_8      0\n",
              "loc_og_t2t_mou_9      0\n",
              "loc_og_t2m_mou_6      0\n",
              "loc_og_t2m_mou_7      0\n",
              "loc_og_t2m_mou_8      0\n",
              "loc_og_t2m_mou_9      0\n",
              "loc_og_t2f_mou_6      0\n",
              "loc_og_t2f_mou_7      0\n",
              "loc_og_t2f_mou_8      0\n",
              "loc_og_t2f_mou_9      0\n",
              "loc_og_t2c_mou_6      0\n",
              "loc_og_t2c_mou_7      0\n",
              "loc_og_t2c_mou_8      0\n",
              "loc_og_t2c_mou_9      0\n",
              "loc_og_mou_6          0\n",
              "loc_og_mou_7          0\n",
              "loc_og_mou_8          0\n",
              "loc_og_mou_9          0\n",
              "std_og_t2t_mou_6      0\n",
              "std_og_t2t_mou_7      0\n",
              "std_og_t2t_mou_8      0\n",
              "std_og_t2t_mou_9      0\n",
              "std_og_t2m_mou_6      0\n",
              "std_og_t2m_mou_7      0\n",
              "std_og_t2m_mou_8      0\n",
              "std_og_t2m_mou_9      0\n",
              "std_og_t2f_mou_6      0\n",
              "std_og_t2f_mou_7      0\n",
              "std_og_t2f_mou_8      0\n",
              "std_og_t2f_mou_9      0\n",
              "std_og_t2c_mou_6      0\n",
              "std_og_t2c_mou_7      0\n",
              "std_og_t2c_mou_8      0\n",
              "std_og_t2c_mou_9      0\n",
              "std_og_mou_6          0\n",
              "std_og_mou_7          0\n",
              "std_og_mou_8          0\n",
              "std_og_mou_9          0\n",
              "isd_og_mou_6          0\n",
              "isd_og_mou_7          0\n",
              "isd_og_mou_8          0\n",
              "isd_og_mou_9          0\n",
              "spl_og_mou_6          0\n",
              "spl_og_mou_7          0\n",
              "spl_og_mou_8          0\n",
              "spl_og_mou_9          0\n",
              "og_others_6           0\n",
              "og_others_7           0\n",
              "og_others_8           0\n",
              "og_others_9           0\n",
              "total_og_mou_6        0\n",
              "total_og_mou_7        0\n",
              "total_og_mou_8        0\n",
              "total_og_mou_9        0\n",
              "loc_ic_t2t_mou_6      0\n",
              "loc_ic_t2t_mou_7      0\n",
              "loc_ic_t2t_mou_8      0\n",
              "loc_ic_t2t_mou_9      0\n",
              "loc_ic_t2m_mou_6      0\n",
              "loc_ic_t2m_mou_7      0\n",
              "loc_ic_t2m_mou_8      0\n",
              "loc_ic_t2m_mou_9      0\n",
              "loc_ic_t2f_mou_6      0\n",
              "loc_ic_t2f_mou_7      0\n",
              "loc_ic_t2f_mou_8      0\n",
              "loc_ic_t2f_mou_9      0\n",
              "loc_ic_mou_6          0\n",
              "loc_ic_mou_7          0\n",
              "loc_ic_mou_8          0\n",
              "loc_ic_mou_9          0\n",
              "std_ic_t2t_mou_6      0\n",
              "std_ic_t2t_mou_7      0\n",
              "std_ic_t2t_mou_8      0\n",
              "std_ic_t2t_mou_9      0\n",
              "std_ic_t2m_mou_6      0\n",
              "std_ic_t2m_mou_7      0\n",
              "std_ic_t2m_mou_8      0\n",
              "std_ic_t2m_mou_9      0\n",
              "std_ic_t2f_mou_6      0\n",
              "std_ic_t2f_mou_7      0\n",
              "std_ic_t2f_mou_8      0\n",
              "std_ic_t2f_mou_9      0\n",
              "std_ic_t2o_mou_6      0\n",
              "std_ic_t2o_mou_7      0\n",
              "std_ic_t2o_mou_8      0\n",
              "std_ic_t2o_mou_9      0\n",
              "std_ic_mou_6          0\n",
              "std_ic_mou_7          0\n",
              "std_ic_mou_8          0\n",
              "std_ic_mou_9          0\n",
              "total_ic_mou_6        0\n",
              "total_ic_mou_7        0\n",
              "total_ic_mou_8        0\n",
              "total_ic_mou_9        0\n",
              "spl_ic_mou_6          0\n",
              "spl_ic_mou_7          0\n",
              "spl_ic_mou_8          0\n",
              "spl_ic_mou_9          0\n",
              "isd_ic_mou_6          0\n",
              "isd_ic_mou_7          0\n",
              "isd_ic_mou_8          0\n",
              "isd_ic_mou_9          0\n",
              "ic_others_6           0\n",
              "ic_others_7           0\n",
              "ic_others_8           0\n",
              "ic_others_9           0\n",
              "total_rech_num_6      0\n",
              "total_rech_num_7      0\n",
              "total_rech_num_8      0\n",
              "total_rech_num_9      0\n",
              "total_rech_amt_6      0\n",
              "total_rech_amt_7      0\n",
              "total_rech_amt_8      0\n",
              "total_rech_amt_9      0\n",
              "max_rech_amt_6        0\n",
              "max_rech_amt_7        0\n",
              "max_rech_amt_8        0\n",
              "max_rech_amt_9        0\n",
              "last_day_rch_amt_6    0\n",
              "last_day_rch_amt_7    0\n",
              "last_day_rch_amt_8    0\n",
              "last_day_rch_amt_9    0\n",
              "total_rech_data_6     0\n",
              "total_rech_data_7     0\n",
              "total_rech_data_8     0\n",
              "total_rech_data_9     0\n",
              "max_rech_data_6       0\n",
              "max_rech_data_7       0\n",
              "max_rech_data_8       0\n",
              "max_rech_data_9       0\n",
              "count_rech_2g_6       0\n",
              "count_rech_2g_7       0\n",
              "count_rech_2g_8       0\n",
              "count_rech_2g_9       0\n",
              "count_rech_3g_6       0\n",
              "count_rech_3g_7       0\n",
              "count_rech_3g_8       0\n",
              "count_rech_3g_9       0\n",
              "av_rech_amt_data_6    0\n",
              "av_rech_amt_data_7    0\n",
              "av_rech_amt_data_8    0\n",
              "av_rech_amt_data_9    0\n",
              "vol_2g_mb_6           0\n",
              "vol_2g_mb_7           0\n",
              "vol_2g_mb_8           0\n",
              "vol_2g_mb_9           0\n",
              "vol_3g_mb_6           0\n",
              "vol_3g_mb_7           0\n",
              "vol_3g_mb_8           0\n",
              "vol_3g_mb_9           0\n",
              "arpu_3g_6             0\n",
              "arpu_3g_7             0\n",
              "arpu_3g_8             0\n",
              "arpu_3g_9             0\n",
              "arpu_2g_6             0\n",
              "arpu_2g_7             0\n",
              "arpu_2g_8             0\n",
              "arpu_2g_9             0\n",
              "monthly_2g_6          0\n",
              "monthly_2g_7          0\n",
              "monthly_2g_8          0\n",
              "monthly_2g_9          0\n",
              "sachet_2g_6           0\n",
              "sachet_2g_7           0\n",
              "sachet_2g_8           0\n",
              "sachet_2g_9           0\n",
              "monthly_3g_6          0\n",
              "monthly_3g_7          0\n",
              "monthly_3g_8          0\n",
              "monthly_3g_9          0\n",
              "sachet_3g_6           0\n",
              "sachet_3g_7           0\n",
              "sachet_3g_8           0\n",
              "sachet_3g_9           0\n",
              "fb_user_6             0\n",
              "fb_user_7             0\n",
              "fb_user_8             0\n",
              "fb_user_9             0\n",
              "aon                   0\n",
              "aug_vbc_3g            0\n",
              "jul_vbc_3g            0\n",
              "jun_vbc_3g            0\n",
              "sep_vbc_3g            0\n",
              "dtype: int64"
            ]
          },
          "metadata": {},
          "execution_count": 25
        }
      ]
    },
    {
      "cell_type": "code",
      "metadata": {
        "colab": {
          "base_uri": "https://localhost:8080/"
        },
        "id": "xm_LJw7MnVIZ",
        "outputId": "79a232e5-fa22-4d2f-af50-23ce4a53d636"
      },
      "source": [
        "uni= telco.nunique().reset_index().rename(columns = {'index': 'feature', 0: 'nunique'})\n",
        "print(uni[uni['nunique'] == 1])"
      ],
      "execution_count": 26,
      "outputs": [
        {
          "output_type": "stream",
          "name": "stdout",
          "text": [
            "              feature  nunique\n",
            "1           circle_id        1\n",
            "2      loc_og_t2o_mou        1\n",
            "3      std_og_t2o_mou        1\n",
            "4      loc_ic_t2o_mou        1\n",
            "57   std_og_t2c_mou_6        1\n",
            "58   std_og_t2c_mou_7        1\n",
            "59   std_og_t2c_mou_8        1\n",
            "60   std_og_t2c_mou_9        1\n",
            "109  std_ic_t2o_mou_6        1\n",
            "110  std_ic_t2o_mou_7        1\n",
            "111  std_ic_t2o_mou_8        1\n",
            "112  std_ic_t2o_mou_9        1\n"
          ]
        }
      ]
    },
    {
      "cell_type": "markdown",
      "metadata": {
        "id": "putzAfvMnVIa"
      },
      "source": [
        "We can drop these columns as it wont add any value to the model"
      ]
    },
    {
      "cell_type": "markdown",
      "metadata": {
        "id": "iol2hky-nVIb"
      },
      "source": [
        "ARPU,MOU(onnet,offnet,T2c,AON"
      ]
    },
    {
      "cell_type": "code",
      "metadata": {
        "scrolled": false,
        "colab": {
          "base_uri": "https://localhost:8080/"
        },
        "id": "YXLglaVtnVIc",
        "outputId": "d77c7534-60d6-410f-f223-fb82acfaba81"
      },
      "source": [
        "telco.info(verbose=True)"
      ],
      "execution_count": 27,
      "outputs": [
        {
          "output_type": "stream",
          "name": "stdout",
          "text": [
            "<class 'pandas.core.frame.DataFrame'>\n",
            "RangeIndex: 99999 entries, 0 to 99998\n",
            "Data columns (total 210 columns):\n",
            " #   Column              Dtype  \n",
            "---  ------              -----  \n",
            " 0   mobile_number       int64  \n",
            " 1   circle_id           int64  \n",
            " 2   loc_og_t2o_mou      float64\n",
            " 3   std_og_t2o_mou      float64\n",
            " 4   loc_ic_t2o_mou      float64\n",
            " 5   arpu_6              float64\n",
            " 6   arpu_7              float64\n",
            " 7   arpu_8              float64\n",
            " 8   arpu_9              float64\n",
            " 9   onnet_mou_6         float64\n",
            " 10  onnet_mou_7         float64\n",
            " 11  onnet_mou_8         float64\n",
            " 12  onnet_mou_9         float64\n",
            " 13  offnet_mou_6        float64\n",
            " 14  offnet_mou_7        float64\n",
            " 15  offnet_mou_8        float64\n",
            " 16  offnet_mou_9        float64\n",
            " 17  roam_ic_mou_6       float64\n",
            " 18  roam_ic_mou_7       float64\n",
            " 19  roam_ic_mou_8       float64\n",
            " 20  roam_ic_mou_9       float64\n",
            " 21  roam_og_mou_6       float64\n",
            " 22  roam_og_mou_7       float64\n",
            " 23  roam_og_mou_8       float64\n",
            " 24  roam_og_mou_9       float64\n",
            " 25  loc_og_t2t_mou_6    float64\n",
            " 26  loc_og_t2t_mou_7    float64\n",
            " 27  loc_og_t2t_mou_8    float64\n",
            " 28  loc_og_t2t_mou_9    float64\n",
            " 29  loc_og_t2m_mou_6    float64\n",
            " 30  loc_og_t2m_mou_7    float64\n",
            " 31  loc_og_t2m_mou_8    float64\n",
            " 32  loc_og_t2m_mou_9    float64\n",
            " 33  loc_og_t2f_mou_6    float64\n",
            " 34  loc_og_t2f_mou_7    float64\n",
            " 35  loc_og_t2f_mou_8    float64\n",
            " 36  loc_og_t2f_mou_9    float64\n",
            " 37  loc_og_t2c_mou_6    float64\n",
            " 38  loc_og_t2c_mou_7    float64\n",
            " 39  loc_og_t2c_mou_8    float64\n",
            " 40  loc_og_t2c_mou_9    float64\n",
            " 41  loc_og_mou_6        float64\n",
            " 42  loc_og_mou_7        float64\n",
            " 43  loc_og_mou_8        float64\n",
            " 44  loc_og_mou_9        float64\n",
            " 45  std_og_t2t_mou_6    float64\n",
            " 46  std_og_t2t_mou_7    float64\n",
            " 47  std_og_t2t_mou_8    float64\n",
            " 48  std_og_t2t_mou_9    float64\n",
            " 49  std_og_t2m_mou_6    float64\n",
            " 50  std_og_t2m_mou_7    float64\n",
            " 51  std_og_t2m_mou_8    float64\n",
            " 52  std_og_t2m_mou_9    float64\n",
            " 53  std_og_t2f_mou_6    float64\n",
            " 54  std_og_t2f_mou_7    float64\n",
            " 55  std_og_t2f_mou_8    float64\n",
            " 56  std_og_t2f_mou_9    float64\n",
            " 57  std_og_t2c_mou_6    float64\n",
            " 58  std_og_t2c_mou_7    float64\n",
            " 59  std_og_t2c_mou_8    float64\n",
            " 60  std_og_t2c_mou_9    float64\n",
            " 61  std_og_mou_6        float64\n",
            " 62  std_og_mou_7        float64\n",
            " 63  std_og_mou_8        float64\n",
            " 64  std_og_mou_9        float64\n",
            " 65  isd_og_mou_6        float64\n",
            " 66  isd_og_mou_7        float64\n",
            " 67  isd_og_mou_8        float64\n",
            " 68  isd_og_mou_9        float64\n",
            " 69  spl_og_mou_6        float64\n",
            " 70  spl_og_mou_7        float64\n",
            " 71  spl_og_mou_8        float64\n",
            " 72  spl_og_mou_9        float64\n",
            " 73  og_others_6         float64\n",
            " 74  og_others_7         float64\n",
            " 75  og_others_8         float64\n",
            " 76  og_others_9         float64\n",
            " 77  total_og_mou_6      float64\n",
            " 78  total_og_mou_7      float64\n",
            " 79  total_og_mou_8      float64\n",
            " 80  total_og_mou_9      float64\n",
            " 81  loc_ic_t2t_mou_6    float64\n",
            " 82  loc_ic_t2t_mou_7    float64\n",
            " 83  loc_ic_t2t_mou_8    float64\n",
            " 84  loc_ic_t2t_mou_9    float64\n",
            " 85  loc_ic_t2m_mou_6    float64\n",
            " 86  loc_ic_t2m_mou_7    float64\n",
            " 87  loc_ic_t2m_mou_8    float64\n",
            " 88  loc_ic_t2m_mou_9    float64\n",
            " 89  loc_ic_t2f_mou_6    float64\n",
            " 90  loc_ic_t2f_mou_7    float64\n",
            " 91  loc_ic_t2f_mou_8    float64\n",
            " 92  loc_ic_t2f_mou_9    float64\n",
            " 93  loc_ic_mou_6        float64\n",
            " 94  loc_ic_mou_7        float64\n",
            " 95  loc_ic_mou_8        float64\n",
            " 96  loc_ic_mou_9        float64\n",
            " 97  std_ic_t2t_mou_6    float64\n",
            " 98  std_ic_t2t_mou_7    float64\n",
            " 99  std_ic_t2t_mou_8    float64\n",
            " 100 std_ic_t2t_mou_9    float64\n",
            " 101 std_ic_t2m_mou_6    float64\n",
            " 102 std_ic_t2m_mou_7    float64\n",
            " 103 std_ic_t2m_mou_8    float64\n",
            " 104 std_ic_t2m_mou_9    float64\n",
            " 105 std_ic_t2f_mou_6    float64\n",
            " 106 std_ic_t2f_mou_7    float64\n",
            " 107 std_ic_t2f_mou_8    float64\n",
            " 108 std_ic_t2f_mou_9    float64\n",
            " 109 std_ic_t2o_mou_6    float64\n",
            " 110 std_ic_t2o_mou_7    float64\n",
            " 111 std_ic_t2o_mou_8    float64\n",
            " 112 std_ic_t2o_mou_9    float64\n",
            " 113 std_ic_mou_6        float64\n",
            " 114 std_ic_mou_7        float64\n",
            " 115 std_ic_mou_8        float64\n",
            " 116 std_ic_mou_9        float64\n",
            " 117 total_ic_mou_6      float64\n",
            " 118 total_ic_mou_7      float64\n",
            " 119 total_ic_mou_8      float64\n",
            " 120 total_ic_mou_9      float64\n",
            " 121 spl_ic_mou_6        float64\n",
            " 122 spl_ic_mou_7        float64\n",
            " 123 spl_ic_mou_8        float64\n",
            " 124 spl_ic_mou_9        float64\n",
            " 125 isd_ic_mou_6        float64\n",
            " 126 isd_ic_mou_7        float64\n",
            " 127 isd_ic_mou_8        float64\n",
            " 128 isd_ic_mou_9        float64\n",
            " 129 ic_others_6         float64\n",
            " 130 ic_others_7         float64\n",
            " 131 ic_others_8         float64\n",
            " 132 ic_others_9         float64\n",
            " 133 total_rech_num_6    int64  \n",
            " 134 total_rech_num_7    int64  \n",
            " 135 total_rech_num_8    int64  \n",
            " 136 total_rech_num_9    int64  \n",
            " 137 total_rech_amt_6    int64  \n",
            " 138 total_rech_amt_7    int64  \n",
            " 139 total_rech_amt_8    int64  \n",
            " 140 total_rech_amt_9    int64  \n",
            " 141 max_rech_amt_6      int64  \n",
            " 142 max_rech_amt_7      int64  \n",
            " 143 max_rech_amt_8      int64  \n",
            " 144 max_rech_amt_9      int64  \n",
            " 145 last_day_rch_amt_6  int64  \n",
            " 146 last_day_rch_amt_7  int64  \n",
            " 147 last_day_rch_amt_8  int64  \n",
            " 148 last_day_rch_amt_9  int64  \n",
            " 149 total_rech_data_6   float64\n",
            " 150 total_rech_data_7   float64\n",
            " 151 total_rech_data_8   float64\n",
            " 152 total_rech_data_9   float64\n",
            " 153 max_rech_data_6     float64\n",
            " 154 max_rech_data_7     float64\n",
            " 155 max_rech_data_8     float64\n",
            " 156 max_rech_data_9     float64\n",
            " 157 count_rech_2g_6     float64\n",
            " 158 count_rech_2g_7     float64\n",
            " 159 count_rech_2g_8     float64\n",
            " 160 count_rech_2g_9     float64\n",
            " 161 count_rech_3g_6     float64\n",
            " 162 count_rech_3g_7     float64\n",
            " 163 count_rech_3g_8     float64\n",
            " 164 count_rech_3g_9     float64\n",
            " 165 av_rech_amt_data_6  float64\n",
            " 166 av_rech_amt_data_7  float64\n",
            " 167 av_rech_amt_data_8  float64\n",
            " 168 av_rech_amt_data_9  float64\n",
            " 169 vol_2g_mb_6         float64\n",
            " 170 vol_2g_mb_7         float64\n",
            " 171 vol_2g_mb_8         float64\n",
            " 172 vol_2g_mb_9         float64\n",
            " 173 vol_3g_mb_6         float64\n",
            " 174 vol_3g_mb_7         float64\n",
            " 175 vol_3g_mb_8         float64\n",
            " 176 vol_3g_mb_9         float64\n",
            " 177 arpu_3g_6           float64\n",
            " 178 arpu_3g_7           float64\n",
            " 179 arpu_3g_8           float64\n",
            " 180 arpu_3g_9           float64\n",
            " 181 arpu_2g_6           float64\n",
            " 182 arpu_2g_7           float64\n",
            " 183 arpu_2g_8           float64\n",
            " 184 arpu_2g_9           float64\n",
            " 185 monthly_2g_6        int64  \n",
            " 186 monthly_2g_7        int64  \n",
            " 187 monthly_2g_8        int64  \n",
            " 188 monthly_2g_9        int64  \n",
            " 189 sachet_2g_6         int64  \n",
            " 190 sachet_2g_7         int64  \n",
            " 191 sachet_2g_8         int64  \n",
            " 192 sachet_2g_9         int64  \n",
            " 193 monthly_3g_6        int64  \n",
            " 194 monthly_3g_7        int64  \n",
            " 195 monthly_3g_8        int64  \n",
            " 196 monthly_3g_9        int64  \n",
            " 197 sachet_3g_6         int64  \n",
            " 198 sachet_3g_7         int64  \n",
            " 199 sachet_3g_8         int64  \n",
            " 200 sachet_3g_9         int64  \n",
            " 201 fb_user_6           float64\n",
            " 202 fb_user_7           float64\n",
            " 203 fb_user_8           float64\n",
            " 204 fb_user_9           float64\n",
            " 205 aon                 int64  \n",
            " 206 aug_vbc_3g          float64\n",
            " 207 jul_vbc_3g          float64\n",
            " 208 jun_vbc_3g          float64\n",
            " 209 sep_vbc_3g          float64\n",
            "dtypes: float64(175), int64(35)\n",
            "memory usage: 160.2 MB\n"
          ]
        }
      ]
    },
    {
      "cell_type": "markdown",
      "metadata": {
        "id": "KxmXKMVTnVIc"
      },
      "source": [
        "### Identifying & filtering only the High Value Customer"
      ]
    },
    {
      "cell_type": "code",
      "metadata": {
        "id": "DR4uKWJGnVId"
      },
      "source": [
        "telco['HVC']=(telco['total_rech_amt_6']+telco['total_rech_amt_7'])/2.0"
      ],
      "execution_count": null,
      "outputs": []
    },
    {
      "cell_type": "code",
      "metadata": {
        "id": "jHTpQDUBnVId",
        "outputId": "341cfae6-a195-4eba-c0fa-302799ad9a83"
      },
      "source": [
        "telco['HVC']"
      ],
      "execution_count": null,
      "outputs": [
        {
          "data": {
            "text/plain": [
              "0        307.0\n",
              "1        229.0\n",
              "2        241.5\n",
              "3        270.0\n",
              "4        273.0\n",
              "         ...  \n",
              "99994     85.0\n",
              "99995    110.0\n",
              "99996     59.5\n",
              "99997    369.5\n",
              "99998    355.0\n",
              "Name: HVC, Length: 99999, dtype: float64"
            ]
          },
          "execution_count": 214,
          "metadata": {},
          "output_type": "execute_result"
        }
      ]
    },
    {
      "cell_type": "code",
      "metadata": {
        "id": "cf6plaNnnVId",
        "outputId": "d755d407-b7be-4b67-b711-a7b929e95933"
      },
      "source": [
        "np.percentile(telco['HVC'],70)"
      ],
      "execution_count": null,
      "outputs": [
        {
          "data": {
            "text/plain": [
              "368.5"
            ]
          },
          "execution_count": 210,
          "metadata": {},
          "output_type": "execute_result"
        }
      ]
    },
    {
      "cell_type": "code",
      "metadata": {
        "id": "EGf0LF6YnVIf"
      },
      "source": [
        "telco['HVC']=telco['HVC'].apply(lambda x:0 if x<368.5 else 1)"
      ],
      "execution_count": null,
      "outputs": []
    },
    {
      "cell_type": "code",
      "metadata": {
        "id": "JSy1R4tPnVIi"
      },
      "source": [
        "telco=telco[telco['HVC']==1]"
      ],
      "execution_count": null,
      "outputs": []
    },
    {
      "cell_type": "code",
      "metadata": {
        "id": "1RW_s8mxnVIi",
        "outputId": "890d21ab-cd5b-4d9e-c754-4ede7127991f"
      },
      "source": [
        "telco.shape"
      ],
      "execution_count": null,
      "outputs": [
        {
          "data": {
            "text/plain": [
              "(30011, 211)"
            ]
          },
          "execution_count": 220,
          "metadata": {},
          "output_type": "execute_result"
        }
      ]
    },
    {
      "cell_type": "markdown",
      "metadata": {
        "id": "1yJyUGRsnVIj"
      },
      "source": [
        "### Identifying the target variable"
      ]
    },
    {
      "cell_type": "code",
      "metadata": {
        "id": "3CAbI2h2nVIk"
      },
      "source": [
        "telco['churn']=np.where(((telco['total_ic_mou_9']==0)&(telco['total_og_mou_9']==0)&(telco['vol_2g_mb_9']==0)&(telco['vol_3g_mb_9']==0)),1,0)"
      ],
      "execution_count": 28,
      "outputs": []
    },
    {
      "cell_type": "code",
      "metadata": {
        "colab": {
          "base_uri": "https://localhost:8080/",
          "height": 0
        },
        "id": "ADVyaiLOnVIk",
        "outputId": "29d5ff14-e328-4789-9560-4a5e927594f6"
      },
      "source": [
        "telco[['churn','total_ic_mou_9','total_og_mou_9','vol_2g_mb_9','vol_3g_mb_9']].head()"
      ],
      "execution_count": 29,
      "outputs": [
        {
          "output_type": "execute_result",
          "data": {
            "text/html": [
              "<div>\n",
              "<style scoped>\n",
              "    .dataframe tbody tr th:only-of-type {\n",
              "        vertical-align: middle;\n",
              "    }\n",
              "\n",
              "    .dataframe tbody tr th {\n",
              "        vertical-align: top;\n",
              "    }\n",
              "\n",
              "    .dataframe thead th {\n",
              "        text-align: right;\n",
              "    }\n",
              "</style>\n",
              "<table border=\"1\" class=\"dataframe\">\n",
              "  <thead>\n",
              "    <tr style=\"text-align: right;\">\n",
              "      <th></th>\n",
              "      <th>churn</th>\n",
              "      <th>total_ic_mou_9</th>\n",
              "      <th>total_og_mou_9</th>\n",
              "      <th>vol_2g_mb_9</th>\n",
              "      <th>vol_3g_mb_9</th>\n",
              "    </tr>\n",
              "  </thead>\n",
              "  <tbody>\n",
              "    <tr>\n",
              "      <th>0</th>\n",
              "      <td>1</td>\n",
              "      <td>0.00</td>\n",
              "      <td>0.00</td>\n",
              "      <td>0.0</td>\n",
              "      <td>0.00</td>\n",
              "    </tr>\n",
              "    <tr>\n",
              "      <th>1</th>\n",
              "      <td>0</td>\n",
              "      <td>188.04</td>\n",
              "      <td>72.11</td>\n",
              "      <td>0.0</td>\n",
              "      <td>0.00</td>\n",
              "    </tr>\n",
              "    <tr>\n",
              "      <th>2</th>\n",
              "      <td>0</td>\n",
              "      <td>517.74</td>\n",
              "      <td>124.94</td>\n",
              "      <td>0.0</td>\n",
              "      <td>8.42</td>\n",
              "    </tr>\n",
              "    <tr>\n",
              "      <th>3</th>\n",
              "      <td>0</td>\n",
              "      <td>305.38</td>\n",
              "      <td>362.54</td>\n",
              "      <td>0.0</td>\n",
              "      <td>0.00</td>\n",
              "    </tr>\n",
              "    <tr>\n",
              "      <th>4</th>\n",
              "      <td>0</td>\n",
              "      <td>205.31</td>\n",
              "      <td>104.59</td>\n",
              "      <td>0.0</td>\n",
              "      <td>0.00</td>\n",
              "    </tr>\n",
              "  </tbody>\n",
              "</table>\n",
              "</div>"
            ],
            "text/plain": [
              "   churn  total_ic_mou_9  total_og_mou_9  vol_2g_mb_9  vol_3g_mb_9\n",
              "0      1            0.00            0.00          0.0         0.00\n",
              "1      0          188.04           72.11          0.0         0.00\n",
              "2      0          517.74          124.94          0.0         8.42\n",
              "3      0          305.38          362.54          0.0         0.00\n",
              "4      0          205.31          104.59          0.0         0.00"
            ]
          },
          "metadata": {},
          "execution_count": 29
        }
      ]
    },
    {
      "cell_type": "markdown",
      "metadata": {
        "id": "RMuR3PJunVIl"
      },
      "source": [
        "### Dropping all columns related to 9th Month to avoid overfitting the model"
      ]
    },
    {
      "cell_type": "code",
      "metadata": {
        "colab": {
          "base_uri": "https://localhost:8080/"
        },
        "id": "vgB8ZlvTnVIl",
        "outputId": "5d570878-174b-489e-b506-d44383134c53"
      },
      "source": [
        "telco.filter(like='_9',axis=1).columns"
      ],
      "execution_count": 30,
      "outputs": [
        {
          "output_type": "execute_result",
          "data": {
            "text/plain": [
              "Index(['arpu_9', 'onnet_mou_9', 'offnet_mou_9', 'roam_ic_mou_9',\n",
              "       'roam_og_mou_9', 'loc_og_t2t_mou_9', 'loc_og_t2m_mou_9',\n",
              "       'loc_og_t2f_mou_9', 'loc_og_t2c_mou_9', 'loc_og_mou_9',\n",
              "       'std_og_t2t_mou_9', 'std_og_t2m_mou_9', 'std_og_t2f_mou_9',\n",
              "       'std_og_t2c_mou_9', 'std_og_mou_9', 'isd_og_mou_9', 'spl_og_mou_9',\n",
              "       'og_others_9', 'total_og_mou_9', 'loc_ic_t2t_mou_9', 'loc_ic_t2m_mou_9',\n",
              "       'loc_ic_t2f_mou_9', 'loc_ic_mou_9', 'std_ic_t2t_mou_9',\n",
              "       'std_ic_t2m_mou_9', 'std_ic_t2f_mou_9', 'std_ic_t2o_mou_9',\n",
              "       'std_ic_mou_9', 'total_ic_mou_9', 'spl_ic_mou_9', 'isd_ic_mou_9',\n",
              "       'ic_others_9', 'total_rech_num_9', 'total_rech_amt_9', 'max_rech_amt_9',\n",
              "       'last_day_rch_amt_9', 'total_rech_data_9', 'max_rech_data_9',\n",
              "       'count_rech_2g_9', 'count_rech_3g_9', 'av_rech_amt_data_9',\n",
              "       'vol_2g_mb_9', 'vol_3g_mb_9', 'arpu_3g_9', 'arpu_2g_9', 'monthly_2g_9',\n",
              "       'sachet_2g_9', 'monthly_3g_9', 'sachet_3g_9', 'fb_user_9'],\n",
              "      dtype='object')"
            ]
          },
          "metadata": {},
          "execution_count": 30
        }
      ]
    },
    {
      "cell_type": "code",
      "metadata": {
        "id": "26CH88xdnVIm"
      },
      "source": [
        "telco.drop(telco.filter(like='_9',axis=1).columns,axis=1,inplace=True)"
      ],
      "execution_count": 31,
      "outputs": []
    },
    {
      "cell_type": "markdown",
      "metadata": {
        "id": "ea4ir9EonVIn"
      },
      "source": [
        "### Important Factors"
      ]
    },
    {
      "cell_type": "markdown",
      "metadata": {
        "id": "Js3jv6-0nVIn"
      },
      "source": [
        "Avg products being used per month,Net Incoming Calls(Incoming MOU-Outgoing MOU) per month,Avg recharges per month()"
      ]
    },
    {
      "cell_type": "code",
      "metadata": {
        "colab": {
          "base_uri": "https://localhost:8080/",
          "height": 424
        },
        "id": "o8HDZERcnVIn",
        "outputId": "80cae428-057b-418b-8c75-60328d9319e9"
      },
      "source": [
        "telco[['total_rech_num_6','count_rech_2g_6','count_rech_3g_6']]"
      ],
      "execution_count": 32,
      "outputs": [
        {
          "output_type": "execute_result",
          "data": {
            "text/html": [
              "<div>\n",
              "<style scoped>\n",
              "    .dataframe tbody tr th:only-of-type {\n",
              "        vertical-align: middle;\n",
              "    }\n",
              "\n",
              "    .dataframe tbody tr th {\n",
              "        vertical-align: top;\n",
              "    }\n",
              "\n",
              "    .dataframe thead th {\n",
              "        text-align: right;\n",
              "    }\n",
              "</style>\n",
              "<table border=\"1\" class=\"dataframe\">\n",
              "  <thead>\n",
              "    <tr style=\"text-align: right;\">\n",
              "      <th></th>\n",
              "      <th>total_rech_num_6</th>\n",
              "      <th>count_rech_2g_6</th>\n",
              "      <th>count_rech_3g_6</th>\n",
              "    </tr>\n",
              "  </thead>\n",
              "  <tbody>\n",
              "    <tr>\n",
              "      <th>0</th>\n",
              "      <td>4</td>\n",
              "      <td>0.0</td>\n",
              "      <td>1.0</td>\n",
              "    </tr>\n",
              "    <tr>\n",
              "      <th>1</th>\n",
              "      <td>4</td>\n",
              "      <td>0.0</td>\n",
              "      <td>0.0</td>\n",
              "    </tr>\n",
              "    <tr>\n",
              "      <th>2</th>\n",
              "      <td>5</td>\n",
              "      <td>0.0</td>\n",
              "      <td>0.0</td>\n",
              "    </tr>\n",
              "    <tr>\n",
              "      <th>3</th>\n",
              "      <td>10</td>\n",
              "      <td>0.0</td>\n",
              "      <td>0.0</td>\n",
              "    </tr>\n",
              "    <tr>\n",
              "      <th>4</th>\n",
              "      <td>5</td>\n",
              "      <td>1.0</td>\n",
              "      <td>0.0</td>\n",
              "    </tr>\n",
              "    <tr>\n",
              "      <th>...</th>\n",
              "      <td>...</td>\n",
              "      <td>...</td>\n",
              "      <td>...</td>\n",
              "    </tr>\n",
              "    <tr>\n",
              "      <th>99994</th>\n",
              "      <td>2</td>\n",
              "      <td>0.0</td>\n",
              "      <td>0.0</td>\n",
              "    </tr>\n",
              "    <tr>\n",
              "      <th>99995</th>\n",
              "      <td>5</td>\n",
              "      <td>0.0</td>\n",
              "      <td>0.0</td>\n",
              "    </tr>\n",
              "    <tr>\n",
              "      <th>99996</th>\n",
              "      <td>5</td>\n",
              "      <td>2.0</td>\n",
              "      <td>0.0</td>\n",
              "    </tr>\n",
              "    <tr>\n",
              "      <th>99997</th>\n",
              "      <td>3</td>\n",
              "      <td>1.0</td>\n",
              "      <td>2.0</td>\n",
              "    </tr>\n",
              "    <tr>\n",
              "      <th>99998</th>\n",
              "      <td>5</td>\n",
              "      <td>1.0</td>\n",
              "      <td>0.0</td>\n",
              "    </tr>\n",
              "  </tbody>\n",
              "</table>\n",
              "<p>99999 rows × 3 columns</p>\n",
              "</div>"
            ],
            "text/plain": [
              "       total_rech_num_6  count_rech_2g_6  count_rech_3g_6\n",
              "0                     4              0.0              1.0\n",
              "1                     4              0.0              0.0\n",
              "2                     5              0.0              0.0\n",
              "3                    10              0.0              0.0\n",
              "4                     5              1.0              0.0\n",
              "...                 ...              ...              ...\n",
              "99994                 2              0.0              0.0\n",
              "99995                 5              0.0              0.0\n",
              "99996                 5              2.0              0.0\n",
              "99997                 3              1.0              2.0\n",
              "99998                 5              1.0              0.0\n",
              "\n",
              "[99999 rows x 3 columns]"
            ]
          },
          "metadata": {},
          "execution_count": 32
        }
      ]
    },
    {
      "cell_type": "code",
      "metadata": {
        "colab": {
          "base_uri": "https://localhost:8080/",
          "height": 540
        },
        "id": "H3nSVvgvnVIo",
        "outputId": "e8393191-c5d1-4c5c-d06d-3a4d2b808fe4"
      },
      "source": [
        "telco.filter(like='rech',axis=1).head(15)"
      ],
      "execution_count": 33,
      "outputs": [
        {
          "output_type": "execute_result",
          "data": {
            "text/html": [
              "<div>\n",
              "<style scoped>\n",
              "    .dataframe tbody tr th:only-of-type {\n",
              "        vertical-align: middle;\n",
              "    }\n",
              "\n",
              "    .dataframe tbody tr th {\n",
              "        vertical-align: top;\n",
              "    }\n",
              "\n",
              "    .dataframe thead th {\n",
              "        text-align: right;\n",
              "    }\n",
              "</style>\n",
              "<table border=\"1\" class=\"dataframe\">\n",
              "  <thead>\n",
              "    <tr style=\"text-align: right;\">\n",
              "      <th></th>\n",
              "      <th>total_rech_num_6</th>\n",
              "      <th>total_rech_num_7</th>\n",
              "      <th>total_rech_num_8</th>\n",
              "      <th>total_rech_amt_6</th>\n",
              "      <th>total_rech_amt_7</th>\n",
              "      <th>total_rech_amt_8</th>\n",
              "      <th>max_rech_amt_6</th>\n",
              "      <th>max_rech_amt_7</th>\n",
              "      <th>max_rech_amt_8</th>\n",
              "      <th>total_rech_data_6</th>\n",
              "      <th>total_rech_data_7</th>\n",
              "      <th>total_rech_data_8</th>\n",
              "      <th>max_rech_data_6</th>\n",
              "      <th>max_rech_data_7</th>\n",
              "      <th>max_rech_data_8</th>\n",
              "      <th>count_rech_2g_6</th>\n",
              "      <th>count_rech_2g_7</th>\n",
              "      <th>count_rech_2g_8</th>\n",
              "      <th>count_rech_3g_6</th>\n",
              "      <th>count_rech_3g_7</th>\n",
              "      <th>count_rech_3g_8</th>\n",
              "      <th>av_rech_amt_data_6</th>\n",
              "      <th>av_rech_amt_data_7</th>\n",
              "      <th>av_rech_amt_data_8</th>\n",
              "    </tr>\n",
              "  </thead>\n",
              "  <tbody>\n",
              "    <tr>\n",
              "      <th>0</th>\n",
              "      <td>4</td>\n",
              "      <td>3</td>\n",
              "      <td>2</td>\n",
              "      <td>362</td>\n",
              "      <td>252</td>\n",
              "      <td>252</td>\n",
              "      <td>252</td>\n",
              "      <td>252</td>\n",
              "      <td>252</td>\n",
              "      <td>1.0</td>\n",
              "      <td>1.0</td>\n",
              "      <td>1.0</td>\n",
              "      <td>252.0</td>\n",
              "      <td>252.0</td>\n",
              "      <td>252.0</td>\n",
              "      <td>0.0</td>\n",
              "      <td>0.0</td>\n",
              "      <td>0.0</td>\n",
              "      <td>1.0</td>\n",
              "      <td>1.0</td>\n",
              "      <td>1.0</td>\n",
              "      <td>252.0</td>\n",
              "      <td>252.0</td>\n",
              "      <td>252.0</td>\n",
              "    </tr>\n",
              "    <tr>\n",
              "      <th>1</th>\n",
              "      <td>4</td>\n",
              "      <td>9</td>\n",
              "      <td>11</td>\n",
              "      <td>74</td>\n",
              "      <td>384</td>\n",
              "      <td>283</td>\n",
              "      <td>44</td>\n",
              "      <td>154</td>\n",
              "      <td>65</td>\n",
              "      <td>0.0</td>\n",
              "      <td>1.0</td>\n",
              "      <td>2.0</td>\n",
              "      <td>0.0</td>\n",
              "      <td>154.0</td>\n",
              "      <td>25.0</td>\n",
              "      <td>0.0</td>\n",
              "      <td>1.0</td>\n",
              "      <td>2.0</td>\n",
              "      <td>0.0</td>\n",
              "      <td>0.0</td>\n",
              "      <td>0.0</td>\n",
              "      <td>0.0</td>\n",
              "      <td>154.0</td>\n",
              "      <td>50.0</td>\n",
              "    </tr>\n",
              "    <tr>\n",
              "      <th>2</th>\n",
              "      <td>5</td>\n",
              "      <td>4</td>\n",
              "      <td>2</td>\n",
              "      <td>168</td>\n",
              "      <td>315</td>\n",
              "      <td>116</td>\n",
              "      <td>86</td>\n",
              "      <td>200</td>\n",
              "      <td>86</td>\n",
              "      <td>0.0</td>\n",
              "      <td>0.0</td>\n",
              "      <td>0.0</td>\n",
              "      <td>0.0</td>\n",
              "      <td>0.0</td>\n",
              "      <td>0.0</td>\n",
              "      <td>0.0</td>\n",
              "      <td>0.0</td>\n",
              "      <td>0.0</td>\n",
              "      <td>0.0</td>\n",
              "      <td>0.0</td>\n",
              "      <td>0.0</td>\n",
              "      <td>0.0</td>\n",
              "      <td>0.0</td>\n",
              "      <td>0.0</td>\n",
              "    </tr>\n",
              "    <tr>\n",
              "      <th>3</th>\n",
              "      <td>10</td>\n",
              "      <td>11</td>\n",
              "      <td>18</td>\n",
              "      <td>230</td>\n",
              "      <td>310</td>\n",
              "      <td>601</td>\n",
              "      <td>60</td>\n",
              "      <td>50</td>\n",
              "      <td>50</td>\n",
              "      <td>0.0</td>\n",
              "      <td>0.0</td>\n",
              "      <td>0.0</td>\n",
              "      <td>0.0</td>\n",
              "      <td>0.0</td>\n",
              "      <td>0.0</td>\n",
              "      <td>0.0</td>\n",
              "      <td>0.0</td>\n",
              "      <td>0.0</td>\n",
              "      <td>0.0</td>\n",
              "      <td>0.0</td>\n",
              "      <td>0.0</td>\n",
              "      <td>0.0</td>\n",
              "      <td>0.0</td>\n",
              "      <td>0.0</td>\n",
              "    </tr>\n",
              "    <tr>\n",
              "      <th>4</th>\n",
              "      <td>5</td>\n",
              "      <td>6</td>\n",
              "      <td>3</td>\n",
              "      <td>196</td>\n",
              "      <td>350</td>\n",
              "      <td>287</td>\n",
              "      <td>56</td>\n",
              "      <td>110</td>\n",
              "      <td>110</td>\n",
              "      <td>1.0</td>\n",
              "      <td>0.0</td>\n",
              "      <td>0.0</td>\n",
              "      <td>56.0</td>\n",
              "      <td>0.0</td>\n",
              "      <td>0.0</td>\n",
              "      <td>1.0</td>\n",
              "      <td>0.0</td>\n",
              "      <td>0.0</td>\n",
              "      <td>0.0</td>\n",
              "      <td>0.0</td>\n",
              "      <td>0.0</td>\n",
              "      <td>56.0</td>\n",
              "      <td>0.0</td>\n",
              "      <td>0.0</td>\n",
              "    </tr>\n",
              "    <tr>\n",
              "      <th>5</th>\n",
              "      <td>2</td>\n",
              "      <td>2</td>\n",
              "      <td>3</td>\n",
              "      <td>120</td>\n",
              "      <td>0</td>\n",
              "      <td>130</td>\n",
              "      <td>120</td>\n",
              "      <td>0</td>\n",
              "      <td>130</td>\n",
              "      <td>0.0</td>\n",
              "      <td>0.0</td>\n",
              "      <td>0.0</td>\n",
              "      <td>0.0</td>\n",
              "      <td>0.0</td>\n",
              "      <td>0.0</td>\n",
              "      <td>0.0</td>\n",
              "      <td>0.0</td>\n",
              "      <td>0.0</td>\n",
              "      <td>0.0</td>\n",
              "      <td>0.0</td>\n",
              "      <td>0.0</td>\n",
              "      <td>0.0</td>\n",
              "      <td>0.0</td>\n",
              "      <td>0.0</td>\n",
              "    </tr>\n",
              "    <tr>\n",
              "      <th>6</th>\n",
              "      <td>15</td>\n",
              "      <td>10</td>\n",
              "      <td>11</td>\n",
              "      <td>499</td>\n",
              "      <td>222</td>\n",
              "      <td>294</td>\n",
              "      <td>90</td>\n",
              "      <td>37</td>\n",
              "      <td>50</td>\n",
              "      <td>0.0</td>\n",
              "      <td>0.0</td>\n",
              "      <td>0.0</td>\n",
              "      <td>0.0</td>\n",
              "      <td>0.0</td>\n",
              "      <td>0.0</td>\n",
              "      <td>0.0</td>\n",
              "      <td>0.0</td>\n",
              "      <td>0.0</td>\n",
              "      <td>0.0</td>\n",
              "      <td>0.0</td>\n",
              "      <td>0.0</td>\n",
              "      <td>0.0</td>\n",
              "      <td>0.0</td>\n",
              "      <td>0.0</td>\n",
              "    </tr>\n",
              "    <tr>\n",
              "      <th>7</th>\n",
              "      <td>5</td>\n",
              "      <td>5</td>\n",
              "      <td>7</td>\n",
              "      <td>1580</td>\n",
              "      <td>790</td>\n",
              "      <td>3638</td>\n",
              "      <td>1580</td>\n",
              "      <td>790</td>\n",
              "      <td>1580</td>\n",
              "      <td>0.0</td>\n",
              "      <td>0.0</td>\n",
              "      <td>0.0</td>\n",
              "      <td>0.0</td>\n",
              "      <td>0.0</td>\n",
              "      <td>0.0</td>\n",
              "      <td>0.0</td>\n",
              "      <td>0.0</td>\n",
              "      <td>0.0</td>\n",
              "      <td>0.0</td>\n",
              "      <td>0.0</td>\n",
              "      <td>0.0</td>\n",
              "      <td>0.0</td>\n",
              "      <td>0.0</td>\n",
              "      <td>0.0</td>\n",
              "    </tr>\n",
              "    <tr>\n",
              "      <th>8</th>\n",
              "      <td>19</td>\n",
              "      <td>21</td>\n",
              "      <td>14</td>\n",
              "      <td>437</td>\n",
              "      <td>601</td>\n",
              "      <td>120</td>\n",
              "      <td>90</td>\n",
              "      <td>154</td>\n",
              "      <td>30</td>\n",
              "      <td>0.0</td>\n",
              "      <td>2.0</td>\n",
              "      <td>3.0</td>\n",
              "      <td>0.0</td>\n",
              "      <td>154.0</td>\n",
              "      <td>23.0</td>\n",
              "      <td>0.0</td>\n",
              "      <td>2.0</td>\n",
              "      <td>3.0</td>\n",
              "      <td>0.0</td>\n",
              "      <td>0.0</td>\n",
              "      <td>0.0</td>\n",
              "      <td>0.0</td>\n",
              "      <td>177.0</td>\n",
              "      <td>69.0</td>\n",
              "    </tr>\n",
              "    <tr>\n",
              "      <th>9</th>\n",
              "      <td>4</td>\n",
              "      <td>2</td>\n",
              "      <td>5</td>\n",
              "      <td>220</td>\n",
              "      <td>195</td>\n",
              "      <td>210</td>\n",
              "      <td>110</td>\n",
              "      <td>154</td>\n",
              "      <td>50</td>\n",
              "      <td>0.0</td>\n",
              "      <td>1.0</td>\n",
              "      <td>0.0</td>\n",
              "      <td>0.0</td>\n",
              "      <td>154.0</td>\n",
              "      <td>0.0</td>\n",
              "      <td>0.0</td>\n",
              "      <td>1.0</td>\n",
              "      <td>0.0</td>\n",
              "      <td>0.0</td>\n",
              "      <td>0.0</td>\n",
              "      <td>0.0</td>\n",
              "      <td>0.0</td>\n",
              "      <td>154.0</td>\n",
              "      <td>0.0</td>\n",
              "    </tr>\n",
              "    <tr>\n",
              "      <th>10</th>\n",
              "      <td>1</td>\n",
              "      <td>1</td>\n",
              "      <td>17</td>\n",
              "      <td>0</td>\n",
              "      <td>0</td>\n",
              "      <td>324</td>\n",
              "      <td>0</td>\n",
              "      <td>0</td>\n",
              "      <td>30</td>\n",
              "      <td>0.0</td>\n",
              "      <td>0.0</td>\n",
              "      <td>2.0</td>\n",
              "      <td>0.0</td>\n",
              "      <td>0.0</td>\n",
              "      <td>17.0</td>\n",
              "      <td>0.0</td>\n",
              "      <td>0.0</td>\n",
              "      <td>2.0</td>\n",
              "      <td>0.0</td>\n",
              "      <td>0.0</td>\n",
              "      <td>0.0</td>\n",
              "      <td>0.0</td>\n",
              "      <td>0.0</td>\n",
              "      <td>34.0</td>\n",
              "    </tr>\n",
              "    <tr>\n",
              "      <th>11</th>\n",
              "      <td>6</td>\n",
              "      <td>1</td>\n",
              "      <td>1</td>\n",
              "      <td>366</td>\n",
              "      <td>0</td>\n",
              "      <td>154</td>\n",
              "      <td>110</td>\n",
              "      <td>0</td>\n",
              "      <td>154</td>\n",
              "      <td>0.0</td>\n",
              "      <td>0.0</td>\n",
              "      <td>1.0</td>\n",
              "      <td>0.0</td>\n",
              "      <td>0.0</td>\n",
              "      <td>154.0</td>\n",
              "      <td>0.0</td>\n",
              "      <td>0.0</td>\n",
              "      <td>1.0</td>\n",
              "      <td>0.0</td>\n",
              "      <td>0.0</td>\n",
              "      <td>0.0</td>\n",
              "      <td>0.0</td>\n",
              "      <td>0.0</td>\n",
              "      <td>154.0</td>\n",
              "    </tr>\n",
              "    <tr>\n",
              "      <th>12</th>\n",
              "      <td>2</td>\n",
              "      <td>3</td>\n",
              "      <td>2</td>\n",
              "      <td>110</td>\n",
              "      <td>110</td>\n",
              "      <td>130</td>\n",
              "      <td>110</td>\n",
              "      <td>110</td>\n",
              "      <td>130</td>\n",
              "      <td>0.0</td>\n",
              "      <td>0.0</td>\n",
              "      <td>0.0</td>\n",
              "      <td>0.0</td>\n",
              "      <td>0.0</td>\n",
              "      <td>0.0</td>\n",
              "      <td>0.0</td>\n",
              "      <td>0.0</td>\n",
              "      <td>0.0</td>\n",
              "      <td>0.0</td>\n",
              "      <td>0.0</td>\n",
              "      <td>0.0</td>\n",
              "      <td>0.0</td>\n",
              "      <td>0.0</td>\n",
              "      <td>0.0</td>\n",
              "    </tr>\n",
              "    <tr>\n",
              "      <th>13</th>\n",
              "      <td>6</td>\n",
              "      <td>4</td>\n",
              "      <td>11</td>\n",
              "      <td>507</td>\n",
              "      <td>253</td>\n",
              "      <td>717</td>\n",
              "      <td>110</td>\n",
              "      <td>110</td>\n",
              "      <td>130</td>\n",
              "      <td>0.0</td>\n",
              "      <td>0.0</td>\n",
              "      <td>3.0</td>\n",
              "      <td>0.0</td>\n",
              "      <td>0.0</td>\n",
              "      <td>23.0</td>\n",
              "      <td>0.0</td>\n",
              "      <td>0.0</td>\n",
              "      <td>3.0</td>\n",
              "      <td>0.0</td>\n",
              "      <td>0.0</td>\n",
              "      <td>0.0</td>\n",
              "      <td>0.0</td>\n",
              "      <td>0.0</td>\n",
              "      <td>69.0</td>\n",
              "    </tr>\n",
              "    <tr>\n",
              "      <th>14</th>\n",
              "      <td>7</td>\n",
              "      <td>7</td>\n",
              "      <td>9</td>\n",
              "      <td>60</td>\n",
              "      <td>40</td>\n",
              "      <td>70</td>\n",
              "      <td>10</td>\n",
              "      <td>10</td>\n",
              "      <td>10</td>\n",
              "      <td>0.0</td>\n",
              "      <td>0.0</td>\n",
              "      <td>0.0</td>\n",
              "      <td>0.0</td>\n",
              "      <td>0.0</td>\n",
              "      <td>0.0</td>\n",
              "      <td>0.0</td>\n",
              "      <td>0.0</td>\n",
              "      <td>0.0</td>\n",
              "      <td>0.0</td>\n",
              "      <td>0.0</td>\n",
              "      <td>0.0</td>\n",
              "      <td>0.0</td>\n",
              "      <td>0.0</td>\n",
              "      <td>0.0</td>\n",
              "    </tr>\n",
              "  </tbody>\n",
              "</table>\n",
              "</div>"
            ],
            "text/plain": [
              "    total_rech_num_6  total_rech_num_7  total_rech_num_8  total_rech_amt_6  \\\n",
              "0                  4                 3                 2               362   \n",
              "1                  4                 9                11                74   \n",
              "2                  5                 4                 2               168   \n",
              "3                 10                11                18               230   \n",
              "4                  5                 6                 3               196   \n",
              "5                  2                 2                 3               120   \n",
              "6                 15                10                11               499   \n",
              "7                  5                 5                 7              1580   \n",
              "8                 19                21                14               437   \n",
              "9                  4                 2                 5               220   \n",
              "10                 1                 1                17                 0   \n",
              "11                 6                 1                 1               366   \n",
              "12                 2                 3                 2               110   \n",
              "13                 6                 4                11               507   \n",
              "14                 7                 7                 9                60   \n",
              "\n",
              "    total_rech_amt_7  total_rech_amt_8  max_rech_amt_6  max_rech_amt_7  \\\n",
              "0                252               252             252             252   \n",
              "1                384               283              44             154   \n",
              "2                315               116              86             200   \n",
              "3                310               601              60              50   \n",
              "4                350               287              56             110   \n",
              "5                  0               130             120               0   \n",
              "6                222               294              90              37   \n",
              "7                790              3638            1580             790   \n",
              "8                601               120              90             154   \n",
              "9                195               210             110             154   \n",
              "10                 0               324               0               0   \n",
              "11                 0               154             110               0   \n",
              "12               110               130             110             110   \n",
              "13               253               717             110             110   \n",
              "14                40                70              10              10   \n",
              "\n",
              "    max_rech_amt_8  total_rech_data_6  total_rech_data_7  total_rech_data_8  \\\n",
              "0              252                1.0                1.0                1.0   \n",
              "1               65                0.0                1.0                2.0   \n",
              "2               86                0.0                0.0                0.0   \n",
              "3               50                0.0                0.0                0.0   \n",
              "4              110                1.0                0.0                0.0   \n",
              "5              130                0.0                0.0                0.0   \n",
              "6               50                0.0                0.0                0.0   \n",
              "7             1580                0.0                0.0                0.0   \n",
              "8               30                0.0                2.0                3.0   \n",
              "9               50                0.0                1.0                0.0   \n",
              "10              30                0.0                0.0                2.0   \n",
              "11             154                0.0                0.0                1.0   \n",
              "12             130                0.0                0.0                0.0   \n",
              "13             130                0.0                0.0                3.0   \n",
              "14              10                0.0                0.0                0.0   \n",
              "\n",
              "    max_rech_data_6  max_rech_data_7  max_rech_data_8  count_rech_2g_6  \\\n",
              "0             252.0            252.0            252.0              0.0   \n",
              "1               0.0            154.0             25.0              0.0   \n",
              "2               0.0              0.0              0.0              0.0   \n",
              "3               0.0              0.0              0.0              0.0   \n",
              "4              56.0              0.0              0.0              1.0   \n",
              "5               0.0              0.0              0.0              0.0   \n",
              "6               0.0              0.0              0.0              0.0   \n",
              "7               0.0              0.0              0.0              0.0   \n",
              "8               0.0            154.0             23.0              0.0   \n",
              "9               0.0            154.0              0.0              0.0   \n",
              "10              0.0              0.0             17.0              0.0   \n",
              "11              0.0              0.0            154.0              0.0   \n",
              "12              0.0              0.0              0.0              0.0   \n",
              "13              0.0              0.0             23.0              0.0   \n",
              "14              0.0              0.0              0.0              0.0   \n",
              "\n",
              "    count_rech_2g_7  count_rech_2g_8  count_rech_3g_6  count_rech_3g_7  \\\n",
              "0               0.0              0.0              1.0              1.0   \n",
              "1               1.0              2.0              0.0              0.0   \n",
              "2               0.0              0.0              0.0              0.0   \n",
              "3               0.0              0.0              0.0              0.0   \n",
              "4               0.0              0.0              0.0              0.0   \n",
              "5               0.0              0.0              0.0              0.0   \n",
              "6               0.0              0.0              0.0              0.0   \n",
              "7               0.0              0.0              0.0              0.0   \n",
              "8               2.0              3.0              0.0              0.0   \n",
              "9               1.0              0.0              0.0              0.0   \n",
              "10              0.0              2.0              0.0              0.0   \n",
              "11              0.0              1.0              0.0              0.0   \n",
              "12              0.0              0.0              0.0              0.0   \n",
              "13              0.0              3.0              0.0              0.0   \n",
              "14              0.0              0.0              0.0              0.0   \n",
              "\n",
              "    count_rech_3g_8  av_rech_amt_data_6  av_rech_amt_data_7  \\\n",
              "0               1.0               252.0               252.0   \n",
              "1               0.0                 0.0               154.0   \n",
              "2               0.0                 0.0                 0.0   \n",
              "3               0.0                 0.0                 0.0   \n",
              "4               0.0                56.0                 0.0   \n",
              "5               0.0                 0.0                 0.0   \n",
              "6               0.0                 0.0                 0.0   \n",
              "7               0.0                 0.0                 0.0   \n",
              "8               0.0                 0.0               177.0   \n",
              "9               0.0                 0.0               154.0   \n",
              "10              0.0                 0.0                 0.0   \n",
              "11              0.0                 0.0                 0.0   \n",
              "12              0.0                 0.0                 0.0   \n",
              "13              0.0                 0.0                 0.0   \n",
              "14              0.0                 0.0                 0.0   \n",
              "\n",
              "    av_rech_amt_data_8  \n",
              "0                252.0  \n",
              "1                 50.0  \n",
              "2                  0.0  \n",
              "3                  0.0  \n",
              "4                  0.0  \n",
              "5                  0.0  \n",
              "6                  0.0  \n",
              "7                  0.0  \n",
              "8                 69.0  \n",
              "9                  0.0  \n",
              "10                34.0  \n",
              "11               154.0  \n",
              "12                 0.0  \n",
              "13                69.0  \n",
              "14                 0.0  "
            ]
          },
          "metadata": {},
          "execution_count": 33
        }
      ]
    },
    {
      "cell_type": "code",
      "metadata": {
        "colab": {
          "base_uri": "https://localhost:8080/"
        },
        "id": "jS0KgwhSnVIp",
        "outputId": "8b5069b2-8897-4100-955f-9e3d1e1c9a00"
      },
      "source": [
        "100*telco.isnull().sum()/len(telco) # Verfication"
      ],
      "execution_count": 35,
      "outputs": [
        {
          "output_type": "execute_result",
          "data": {
            "text/plain": [
              "mobile_number         0.0\n",
              "circle_id             0.0\n",
              "loc_og_t2o_mou        0.0\n",
              "std_og_t2o_mou        0.0\n",
              "loc_ic_t2o_mou        0.0\n",
              "arpu_6                0.0\n",
              "arpu_7                0.0\n",
              "arpu_8                0.0\n",
              "onnet_mou_6           0.0\n",
              "onnet_mou_7           0.0\n",
              "onnet_mou_8           0.0\n",
              "offnet_mou_6          0.0\n",
              "offnet_mou_7          0.0\n",
              "offnet_mou_8          0.0\n",
              "roam_ic_mou_6         0.0\n",
              "roam_ic_mou_7         0.0\n",
              "roam_ic_mou_8         0.0\n",
              "roam_og_mou_6         0.0\n",
              "roam_og_mou_7         0.0\n",
              "roam_og_mou_8         0.0\n",
              "loc_og_t2t_mou_6      0.0\n",
              "loc_og_t2t_mou_7      0.0\n",
              "loc_og_t2t_mou_8      0.0\n",
              "loc_og_t2m_mou_6      0.0\n",
              "loc_og_t2m_mou_7      0.0\n",
              "loc_og_t2m_mou_8      0.0\n",
              "loc_og_t2f_mou_6      0.0\n",
              "loc_og_t2f_mou_7      0.0\n",
              "loc_og_t2f_mou_8      0.0\n",
              "loc_og_t2c_mou_6      0.0\n",
              "loc_og_t2c_mou_7      0.0\n",
              "loc_og_t2c_mou_8      0.0\n",
              "loc_og_mou_6          0.0\n",
              "loc_og_mou_7          0.0\n",
              "loc_og_mou_8          0.0\n",
              "std_og_t2t_mou_6      0.0\n",
              "std_og_t2t_mou_7      0.0\n",
              "std_og_t2t_mou_8      0.0\n",
              "std_og_t2m_mou_6      0.0\n",
              "std_og_t2m_mou_7      0.0\n",
              "std_og_t2m_mou_8      0.0\n",
              "std_og_t2f_mou_6      0.0\n",
              "std_og_t2f_mou_7      0.0\n",
              "std_og_t2f_mou_8      0.0\n",
              "std_og_t2c_mou_6      0.0\n",
              "std_og_t2c_mou_7      0.0\n",
              "std_og_t2c_mou_8      0.0\n",
              "std_og_mou_6          0.0\n",
              "std_og_mou_7          0.0\n",
              "std_og_mou_8          0.0\n",
              "isd_og_mou_6          0.0\n",
              "isd_og_mou_7          0.0\n",
              "isd_og_mou_8          0.0\n",
              "spl_og_mou_6          0.0\n",
              "spl_og_mou_7          0.0\n",
              "spl_og_mou_8          0.0\n",
              "og_others_6           0.0\n",
              "og_others_7           0.0\n",
              "og_others_8           0.0\n",
              "total_og_mou_6        0.0\n",
              "total_og_mou_7        0.0\n",
              "total_og_mou_8        0.0\n",
              "loc_ic_t2t_mou_6      0.0\n",
              "loc_ic_t2t_mou_7      0.0\n",
              "loc_ic_t2t_mou_8      0.0\n",
              "loc_ic_t2m_mou_6      0.0\n",
              "loc_ic_t2m_mou_7      0.0\n",
              "loc_ic_t2m_mou_8      0.0\n",
              "loc_ic_t2f_mou_6      0.0\n",
              "loc_ic_t2f_mou_7      0.0\n",
              "loc_ic_t2f_mou_8      0.0\n",
              "loc_ic_mou_6          0.0\n",
              "loc_ic_mou_7          0.0\n",
              "loc_ic_mou_8          0.0\n",
              "std_ic_t2t_mou_6      0.0\n",
              "std_ic_t2t_mou_7      0.0\n",
              "std_ic_t2t_mou_8      0.0\n",
              "std_ic_t2m_mou_6      0.0\n",
              "std_ic_t2m_mou_7      0.0\n",
              "std_ic_t2m_mou_8      0.0\n",
              "std_ic_t2f_mou_6      0.0\n",
              "std_ic_t2f_mou_7      0.0\n",
              "std_ic_t2f_mou_8      0.0\n",
              "std_ic_t2o_mou_6      0.0\n",
              "std_ic_t2o_mou_7      0.0\n",
              "std_ic_t2o_mou_8      0.0\n",
              "std_ic_mou_6          0.0\n",
              "std_ic_mou_7          0.0\n",
              "std_ic_mou_8          0.0\n",
              "total_ic_mou_6        0.0\n",
              "total_ic_mou_7        0.0\n",
              "total_ic_mou_8        0.0\n",
              "spl_ic_mou_6          0.0\n",
              "spl_ic_mou_7          0.0\n",
              "spl_ic_mou_8          0.0\n",
              "isd_ic_mou_6          0.0\n",
              "isd_ic_mou_7          0.0\n",
              "isd_ic_mou_8          0.0\n",
              "ic_others_6           0.0\n",
              "ic_others_7           0.0\n",
              "ic_others_8           0.0\n",
              "total_rech_num_6      0.0\n",
              "total_rech_num_7      0.0\n",
              "total_rech_num_8      0.0\n",
              "total_rech_amt_6      0.0\n",
              "total_rech_amt_7      0.0\n",
              "total_rech_amt_8      0.0\n",
              "max_rech_amt_6        0.0\n",
              "max_rech_amt_7        0.0\n",
              "max_rech_amt_8        0.0\n",
              "last_day_rch_amt_6    0.0\n",
              "last_day_rch_amt_7    0.0\n",
              "last_day_rch_amt_8    0.0\n",
              "total_rech_data_6     0.0\n",
              "total_rech_data_7     0.0\n",
              "total_rech_data_8     0.0\n",
              "max_rech_data_6       0.0\n",
              "max_rech_data_7       0.0\n",
              "max_rech_data_8       0.0\n",
              "count_rech_2g_6       0.0\n",
              "count_rech_2g_7       0.0\n",
              "count_rech_2g_8       0.0\n",
              "count_rech_3g_6       0.0\n",
              "count_rech_3g_7       0.0\n",
              "count_rech_3g_8       0.0\n",
              "av_rech_amt_data_6    0.0\n",
              "av_rech_amt_data_7    0.0\n",
              "av_rech_amt_data_8    0.0\n",
              "vol_2g_mb_6           0.0\n",
              "vol_2g_mb_7           0.0\n",
              "vol_2g_mb_8           0.0\n",
              "vol_3g_mb_6           0.0\n",
              "vol_3g_mb_7           0.0\n",
              "vol_3g_mb_8           0.0\n",
              "arpu_3g_6             0.0\n",
              "arpu_3g_7             0.0\n",
              "arpu_3g_8             0.0\n",
              "arpu_2g_6             0.0\n",
              "arpu_2g_7             0.0\n",
              "arpu_2g_8             0.0\n",
              "monthly_2g_6          0.0\n",
              "monthly_2g_7          0.0\n",
              "monthly_2g_8          0.0\n",
              "sachet_2g_6           0.0\n",
              "sachet_2g_7           0.0\n",
              "sachet_2g_8           0.0\n",
              "monthly_3g_6          0.0\n",
              "monthly_3g_7          0.0\n",
              "monthly_3g_8          0.0\n",
              "sachet_3g_6           0.0\n",
              "sachet_3g_7           0.0\n",
              "sachet_3g_8           0.0\n",
              "fb_user_6             0.0\n",
              "fb_user_7             0.0\n",
              "fb_user_8             0.0\n",
              "aon                   0.0\n",
              "aug_vbc_3g            0.0\n",
              "jul_vbc_3g            0.0\n",
              "jun_vbc_3g            0.0\n",
              "sep_vbc_3g            0.0\n",
              "churn                 0.0\n",
              "dtype: float64"
            ]
          },
          "metadata": {},
          "execution_count": 35
        }
      ]
    },
    {
      "cell_type": "code",
      "metadata": {
        "colab": {
          "base_uri": "https://localhost:8080/"
        },
        "id": "gJlT4g9ZpKxP",
        "outputId": "ba3bb10d-b8fa-4f51-ae35-e3830aeb80f7"
      },
      "source": [
        "telco.nunique()"
      ],
      "execution_count": 36,
      "outputs": [
        {
          "output_type": "execute_result",
          "data": {
            "text/plain": [
              "mobile_number         99999\n",
              "circle_id                 1\n",
              "loc_og_t2o_mou            1\n",
              "std_og_t2o_mou            1\n",
              "loc_ic_t2o_mou            1\n",
              "arpu_6                85681\n",
              "arpu_7                85308\n",
              "arpu_8                83615\n",
              "onnet_mou_6           24313\n",
              "onnet_mou_7           24336\n",
              "onnet_mou_8           24089\n",
              "offnet_mou_6          31140\n",
              "offnet_mou_7          31023\n",
              "offnet_mou_8          30908\n",
              "roam_ic_mou_6          6512\n",
              "roam_ic_mou_7          5230\n",
              "roam_ic_mou_8          5315\n",
              "roam_og_mou_6          8038\n",
              "roam_og_mou_7          6639\n",
              "roam_og_mou_8          6504\n",
              "loc_og_t2t_mou_6      13539\n",
              "loc_og_t2t_mou_7      13411\n",
              "loc_og_t2t_mou_8      13336\n",
              "loc_og_t2m_mou_6      20905\n",
              "loc_og_t2m_mou_7      20637\n",
              "loc_og_t2m_mou_8      20544\n",
              "loc_og_t2f_mou_6       3860\n",
              "loc_og_t2f_mou_7       3863\n",
              "loc_og_t2f_mou_8       3807\n",
              "loc_og_t2c_mou_6       2235\n",
              "loc_og_t2c_mou_7       2426\n",
              "loc_og_t2c_mou_8       2516\n",
              "loc_og_mou_6          26372\n",
              "loc_og_mou_7          26091\n",
              "loc_og_mou_8          25990\n",
              "std_og_t2t_mou_6      18244\n",
              "std_og_t2t_mou_7      18567\n",
              "std_og_t2t_mou_8      18291\n",
              "std_og_t2m_mou_6      19734\n",
              "std_og_t2m_mou_7      20018\n",
              "std_og_t2m_mou_8      19786\n",
              "std_og_t2f_mou_6       2450\n",
              "std_og_t2f_mou_7       2391\n",
              "std_og_t2f_mou_8       2333\n",
              "std_og_t2c_mou_6          1\n",
              "std_og_t2c_mou_7          1\n",
              "std_og_t2c_mou_8          1\n",
              "std_og_mou_6          27502\n",
              "std_og_mou_7          27951\n",
              "std_og_mou_8          27491\n",
              "isd_og_mou_6           1381\n",
              "isd_og_mou_7           1380\n",
              "isd_og_mou_8           1276\n",
              "spl_og_mou_6           3965\n",
              "spl_og_mou_7           4396\n",
              "spl_og_mou_8           4390\n",
              "og_others_6            1018\n",
              "og_others_7             187\n",
              "og_others_8             216\n",
              "total_og_mou_6        40327\n",
              "total_og_mou_7        40477\n",
              "total_og_mou_8        40074\n",
              "loc_ic_t2t_mou_6      13540\n",
              "loc_ic_t2t_mou_7      13511\n",
              "loc_ic_t2t_mou_8      13346\n",
              "loc_ic_t2m_mou_6      22065\n",
              "loc_ic_t2m_mou_7      21918\n",
              "loc_ic_t2m_mou_8      21886\n",
              "loc_ic_t2f_mou_6       7250\n",
              "loc_ic_t2f_mou_7       7395\n",
              "loc_ic_t2f_mou_8       7097\n",
              "loc_ic_mou_6          28569\n",
              "loc_ic_mou_7          28390\n",
              "loc_ic_mou_8          28200\n",
              "std_ic_t2t_mou_6       6279\n",
              "std_ic_t2t_mou_7       6481\n",
              "std_ic_t2t_mou_8       6352\n",
              "std_ic_t2m_mou_6       9308\n",
              "std_ic_t2m_mou_7       9464\n",
              "std_ic_t2m_mou_8       9304\n",
              "std_ic_t2f_mou_6       3125\n",
              "std_ic_t2f_mou_7       3209\n",
              "std_ic_t2f_mou_8       3051\n",
              "std_ic_t2o_mou_6          1\n",
              "std_ic_t2o_mou_7          1\n",
              "std_ic_t2o_mou_8          1\n",
              "std_ic_mou_6          11646\n",
              "std_ic_mou_7          11889\n",
              "std_ic_mou_8          11662\n",
              "total_ic_mou_6        32247\n",
              "total_ic_mou_7        32242\n",
              "total_ic_mou_8        32128\n",
              "spl_ic_mou_6             84\n",
              "spl_ic_mou_7            107\n",
              "spl_ic_mou_8            102\n",
              "isd_ic_mou_6           5521\n",
              "isd_ic_mou_7           5789\n",
              "isd_ic_mou_8           5844\n",
              "ic_others_6            1817\n",
              "ic_others_7            2002\n",
              "ic_others_8            1896\n",
              "total_rech_num_6        102\n",
              "total_rech_num_7        101\n",
              "total_rech_num_8         96\n",
              "total_rech_amt_6       2305\n",
              "total_rech_amt_7       2329\n",
              "total_rech_amt_8       2347\n",
              "max_rech_amt_6          202\n",
              "max_rech_amt_7          183\n",
              "max_rech_amt_8          213\n",
              "last_day_rch_amt_6      186\n",
              "last_day_rch_amt_7      173\n",
              "last_day_rch_amt_8      199\n",
              "total_rech_data_6        38\n",
              "total_rech_data_7        43\n",
              "total_rech_data_8        47\n",
              "max_rech_data_6          49\n",
              "max_rech_data_7          49\n",
              "max_rech_data_8          51\n",
              "count_rech_2g_6          31\n",
              "count_rech_2g_7          36\n",
              "count_rech_2g_8          34\n",
              "count_rech_3g_6          25\n",
              "count_rech_3g_7          28\n",
              "count_rech_3g_8          29\n",
              "av_rech_amt_data_6      888\n",
              "av_rech_amt_data_7      962\n",
              "av_rech_amt_data_8      974\n",
              "vol_2g_mb_6           15201\n",
              "vol_2g_mb_7           15114\n",
              "vol_2g_mb_8           14994\n",
              "vol_3g_mb_6           13773\n",
              "vol_3g_mb_7           14519\n",
              "vol_3g_mb_8           14960\n",
              "arpu_3g_6              7418\n",
              "arpu_3g_7              7246\n",
              "arpu_3g_8              7787\n",
              "arpu_2g_6              6990\n",
              "arpu_2g_7              6586\n",
              "arpu_2g_8              6652\n",
              "monthly_2g_6              5\n",
              "monthly_2g_7              6\n",
              "monthly_2g_8              6\n",
              "sachet_2g_6              32\n",
              "sachet_2g_7              35\n",
              "sachet_2g_8              34\n",
              "monthly_3g_6             12\n",
              "monthly_3g_7             15\n",
              "monthly_3g_8             12\n",
              "sachet_3g_6              25\n",
              "sachet_3g_7              27\n",
              "sachet_3g_8              29\n",
              "fb_user_6                 2\n",
              "fb_user_7                 2\n",
              "fb_user_8                 2\n",
              "aon                    3489\n",
              "aug_vbc_3g            14676\n",
              "jul_vbc_3g            14162\n",
              "jun_vbc_3g            13312\n",
              "sep_vbc_3g             3720\n",
              "churn                     2\n",
              "dtype: int64"
            ]
          },
          "metadata": {},
          "execution_count": 36
        }
      ]
    },
    {
      "cell_type": "markdown",
      "metadata": {
        "id": "C57qdrFPqw6w"
      },
      "source": [
        "### Data Preperation"
      ]
    },
    {
      "cell_type": "code",
      "metadata": {
        "id": "1QAF4xKnpRov"
      },
      "source": [
        "# Deriving   a categorical variable to analyse trend of  churning customers\n",
        "# analysing outgoing  and data recharge trend if the customer is about to churn there will be -ve trend \n",
        "telco['Og_trend']=   lamda(x,y: if )"
      ],
      "execution_count": null,
      "outputs": []
    }
  ]
}